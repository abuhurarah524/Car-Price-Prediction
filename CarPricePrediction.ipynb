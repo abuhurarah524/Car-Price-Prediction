{
 "cells": [
  {
   "cell_type": "markdown",
   "metadata": {},
   "source": [
    "<br><br><br>\n",
    "<center> <h3 style=\"color:blue\">========================================================</h3> </center>\n",
    "<center> <h3 style=\"color:green\">In the Name of Allah, the Most Beneficent, the Most Merciful</h3> </center>\n",
    "<center> <h3 style=\"color:blue\">========================================================</h3> </center>\n",
    "<br><br><br>"
   ]
  },
  {
   "cell_type": "markdown",
   "metadata": {},
   "source": [
    "      *----------------------------- AUTHOR_DETAILS -------------------------------*\n",
    "        |                                                                            |\n",
    "        |        Project Title  = Car Price Prediction System                              |\n",
    "        |                                                                            |\n",
    "        |        Author         = Mr.Abuhurarah                             |\n",
    "        |                                                                            |\n",
    "        |        Copyright      = Copyright (C) 2020 Mr.Abuhurarah           |\n",
    "        |                                                                            |\n",
    "        |        License        = Public Domain                                      |\n",
    "        |                                                                            |\n",
    "        |        Version        = 1.0                                                |\n",
    "        |                                                                            |\n",
    "        *----------------------------------------------------------------------------*"
   ]
  },
  {
   "cell_type": "markdown",
   "metadata": {},
   "source": [
    "<br><br><br>\n",
    "<center> <h2 style=\"color:green\">-------------------- PROJECT PURPOSE --------------------</h2> </center>\n",
    "<br>\n",
    "<center><h3>\n",
    "The main purpose of this Project is to demonstrate how the Used Car Price Prediction Problem can be treated as a Supervised Machine Learning Problem using Python and Scikit-learn Machine Learning Toolkit </h3>\n",
    "<br>\n",
    "<center><h3> For this Purpose, In Sha Allah, we will execute the Machine Learning Cycle </h3>\n",
    "<br>\n",
    "<center> <h2 style=\"color:green\">-------------------------------------------------------------------------</h2> </center>\n",
    "<br><br><br>"
   ]
  },
  {
   "cell_type": "markdown",
   "metadata": {},
   "source": [
    "<h1 style=\"color:red\">Car Price Prediction System – Machine Learning Cycle</h1>"
   ]
  },
  {
   "cell_type": "markdown",
   "metadata": {},
   "source": [
    "## Machine Learning Cycle\n",
    "\n",
    "### Four phases of a Machine Learning Cycle are\n",
    "\n",
    "### Training Phase\n",
    "\n",
    "    Build the Model using Training Data\n",
    "\n",
    "### Testing Phase\n",
    "\n",
    "     Evaluate the performance of Model using Testing Data\n",
    "\n",
    "### Application Phase\n",
    "\n",
    "     Deploy the Model in the Real-world, to predict Real-time unseen Data\n",
    "\n",
    "### Feedback Phase\n",
    "\n",
    "    Take Feedback from the Users and Domain Experts to improve the Model"
   ]
  },
  {
   "cell_type": "markdown",
   "metadata": {},
   "source": [
    "<h1 style=\"color:red\">Executing Machine Learning Cycle Using a Single File</h1>"
   ]
  },
  {
   "cell_type": "markdown",
   "metadata": {},
   "source": [
    "### In Sha Allah, we will follow the following Steps to execute the Machine Learning Cycle Using a Single File\n",
    "\n",
    "#### Step 1: Import Libraries\n",
    "\n",
    "#### Step 2: Load Sample Data\n",
    "\n",
    "#### Step 3: Understand and Pre-process Sample Data\n",
    "    \n",
    "    Step 3.1: Understand Sample Data\n",
    "    \n",
    "    Step 3.2: Pre-process Sample Data\n",
    "\n",
    "#### Step 4: Feature Extraction \n",
    "\n",
    "#### Step 5: Label Encoding (Input and Output is converted in Numeric Representation)\n",
    "\n",
    "    Step 5.1: Train the Label Encoder\n",
    "\n",
    "    Step 5.2: Label Encode the Output\n",
    "\n",
    "    Step 5.3: Label Encode the Input \n",
    "\n",
    "#### Step 6: Execute the Training Phase\n",
    "\n",
    "    Step 6.1: Splitting Sample Data into Training Data and Testing Data \n",
    "    \n",
    "    Step 6.2: Splitting Input Vectors and Outputs/Labels of Training Data\n",
    "    \n",
    "    Step 6.3: Train the Support Vector Regressor\n",
    "    \n",
    "    Step 6.4: Save the Trained Model\n",
    "\n",
    "\n",
    "#### Step 7: Execute the Testing Phase \n",
    "\n",
    "    Step 7.1: Splitting Input Vectors and Output/Labels of Testing Data\n",
    "    \n",
    "    Step 7.2: Load the Saved Model\n",
    "    \n",
    "    Step 7.3: Evaluate the Performance of Trained Model\n",
    "    \n",
    "        Step 7.3.1: Make Predictions from the Model on Testing Data\n",
    "    \n",
    "    Step 7.4: Calculate the Mean Absolute Error.\n",
    "\n",
    "#### Step 8: Execute the Application Phase \n",
    "\n",
    "    Step 8.1: Take Input from User \n",
    "    \n",
    "    Step 8.2: Convert User Input into Feature Vector (Exactly Same as Feature Vectors of Sample Data)\n",
    "    \n",
    "    Step 8.3: Label Encoding of Feature Vector (Exactly Same as Label Encoded Feature Vectors of Sample Data)\n",
    "    \n",
    "    Step 8.4: Load the Saved Model\n",
    "    \n",
    "    Step 8.5: Model Prediction\n",
    "        \n",
    "        Step 8.5.1: Apply Model on the Label Encoded Feature Vector of unseen instance and return Prediction to the User\n",
    "\n",
    "\n",
    "#### Step 9: Execute the Feedback Phase \n",
    "\n",
    "#### Step 10: Improve the Model based on Feedback"
   ]
  },
  {
   "cell_type": "markdown",
   "metadata": {},
   "source": [
    "# Step 1: Import Libraries"
   ]
  },
  {
   "cell_type": "code",
   "execution_count": 1,
   "metadata": {
    "scrolled": true
   },
   "outputs": [],
   "source": [
    "# Import Libraries\n",
    "import numpy as np\n",
    "import pandas as pd\n",
    "import seaborn as sns\n",
    "from sklearn.preprocessing import LabelEncoder \n",
    "from sklearn.linear_model import LinearRegression, PassiveAggressiveRegressor\n",
    "from sklearn.linear_model import SGDRegressor\n",
    "from sklearn.svm import LinearSVR\n",
    "from sklearn.neural_network import MLPRegressor\n",
    "from sklearn.model_selection import train_test_split\n",
    "from sklearn.ensemble import ExtraTreesRegressor,RandomForestRegressor\n",
    "from sklearn.preprocessing import StandardScaler\n",
    "from sklearn import metrics\n",
    "import matplotlib.pyplot as plt\n",
    "from sklearn.metrics import r2_score\n",
    "import pickle\n",
    "from sklearn.metrics import mean_absolute_error\n",
    "from prettytable import PrettyTable\n",
    "from astropy.table import Table, Column"
   ]
  },
  {
   "cell_type": "markdown",
   "metadata": {},
   "source": [
    "# Step 2: Load Sample Data"
   ]
  },
  {
   "cell_type": "code",
   "execution_count": 2,
   "metadata": {
    "scrolled": true
   },
   "outputs": [
    {
     "data": {
      "text/html": [
       "<div>\n",
       "<style scoped>\n",
       "    .dataframe tbody tr th:only-of-type {\n",
       "        vertical-align: middle;\n",
       "    }\n",
       "\n",
       "    .dataframe tbody tr th {\n",
       "        vertical-align: top;\n",
       "    }\n",
       "\n",
       "    .dataframe thead th {\n",
       "        text-align: right;\n",
       "    }\n",
       "</style>\n",
       "<table border=\"1\" class=\"dataframe\">\n",
       "  <thead>\n",
       "    <tr style=\"text-align: right;\">\n",
       "      <th></th>\n",
       "      <th>Car_Name</th>\n",
       "      <th>Year</th>\n",
       "      <th>Present_Price</th>\n",
       "      <th>Kms_Driven</th>\n",
       "      <th>Fuel_Type</th>\n",
       "      <th>Seller_Type</th>\n",
       "      <th>Transmission</th>\n",
       "      <th>Owner</th>\n",
       "      <th>Selling_Price</th>\n",
       "    </tr>\n",
       "  </thead>\n",
       "  <tbody>\n",
       "    <tr>\n",
       "      <th>0</th>\n",
       "      <td>ritz</td>\n",
       "      <td>2019</td>\n",
       "      <td>5.59</td>\n",
       "      <td>2700</td>\n",
       "      <td>Petrol</td>\n",
       "      <td>Dealer</td>\n",
       "      <td>Manual</td>\n",
       "      <td>0</td>\n",
       "      <td>5.35</td>\n",
       "    </tr>\n",
       "    <tr>\n",
       "      <th>1</th>\n",
       "      <td>sx4</td>\n",
       "      <td>2018</td>\n",
       "      <td>9.54</td>\n",
       "      <td>4300</td>\n",
       "      <td>Diesel</td>\n",
       "      <td>Dealer</td>\n",
       "      <td>Manual</td>\n",
       "      <td>0</td>\n",
       "      <td>8.75</td>\n",
       "    </tr>\n",
       "    <tr>\n",
       "      <th>2</th>\n",
       "      <td>ciaz</td>\n",
       "      <td>2019</td>\n",
       "      <td>9.85</td>\n",
       "      <td>6900</td>\n",
       "      <td>Petrol</td>\n",
       "      <td>Dealer</td>\n",
       "      <td>Manual</td>\n",
       "      <td>0</td>\n",
       "      <td>8.35</td>\n",
       "    </tr>\n",
       "    <tr>\n",
       "      <th>3</th>\n",
       "      <td>wagon r</td>\n",
       "      <td>2018</td>\n",
       "      <td>4.15</td>\n",
       "      <td>8200</td>\n",
       "      <td>Petrol</td>\n",
       "      <td>Dealer</td>\n",
       "      <td>Manual</td>\n",
       "      <td>0</td>\n",
       "      <td>3.85</td>\n",
       "    </tr>\n",
       "    <tr>\n",
       "      <th>4</th>\n",
       "      <td>swift</td>\n",
       "      <td>2019</td>\n",
       "      <td>6.87</td>\n",
       "      <td>4250</td>\n",
       "      <td>Diesel</td>\n",
       "      <td>Dealer</td>\n",
       "      <td>Manual</td>\n",
       "      <td>0</td>\n",
       "      <td>5.86</td>\n",
       "    </tr>\n",
       "  </tbody>\n",
       "</table>\n",
       "</div>"
      ],
      "text/plain": [
       "  Car_Name  Year  Present_Price  Kms_Driven Fuel_Type Seller_Type  \\\n",
       "0     ritz  2019           5.59        2700    Petrol      Dealer   \n",
       "1      sx4  2018           9.54        4300    Diesel      Dealer   \n",
       "2     ciaz  2019           9.85        6900    Petrol      Dealer   \n",
       "3  wagon r  2018           4.15        8200    Petrol      Dealer   \n",
       "4    swift  2019           6.87        4250    Diesel      Dealer   \n",
       "\n",
       "  Transmission  Owner  Selling_Price  \n",
       "0       Manual      0           5.35  \n",
       "1       Manual      0           8.75  \n",
       "2       Manual      0           8.35  \n",
       "3       Manual      0           3.85  \n",
       "4       Manual      0           5.86  "
      ]
     },
     "execution_count": 2,
     "metadata": {},
     "output_type": "execute_result"
    }
   ],
   "source": [
    "df=pd.read_csv('car data.csv')\n",
    "df.head()"
   ]
  },
  {
   "cell_type": "markdown",
   "metadata": {},
   "source": [
    "# Step 3: Understand and Pre-process Sample Data"
   ]
  },
  {
   "cell_type": "markdown",
   "metadata": {},
   "source": [
    "## Step 3.1: Understand Sample Data"
   ]
  },
  {
   "cell_type": "code",
   "execution_count": 3,
   "metadata": {
    "scrolled": true
   },
   "outputs": [
    {
     "data": {
      "text/plain": [
       "(100, 9)"
      ]
     },
     "execution_count": 3,
     "metadata": {},
     "output_type": "execute_result"
    }
   ],
   "source": [
    "df.shape"
   ]
  },
  {
   "cell_type": "code",
   "execution_count": 4,
   "metadata": {
    "scrolled": true
   },
   "outputs": [
    {
     "name": "stdout",
     "output_type": "stream",
     "text": [
      "['Dealer' 'Individual']\n",
      "['Petrol' 'Diesel']\n",
      "['Manual' 'Automatic']\n",
      "[0 1]\n"
     ]
    }
   ],
   "source": [
    "print(df['Seller_Type'].unique())\n",
    "print(df['Fuel_Type'].unique())\n",
    "print(df['Transmission'].unique())\n",
    "print(df['Owner'].unique())"
   ]
  },
  {
   "cell_type": "code",
   "execution_count": 5,
   "metadata": {
    "scrolled": true
   },
   "outputs": [
    {
     "data": {
      "text/plain": [
       "Car_Name         0\n",
       "Year             0\n",
       "Present_Price    0\n",
       "Kms_Driven       0\n",
       "Fuel_Type        0\n",
       "Seller_Type      0\n",
       "Transmission     0\n",
       "Owner            0\n",
       "Selling_Price    0\n",
       "dtype: int64"
      ]
     },
     "execution_count": 5,
     "metadata": {},
     "output_type": "execute_result"
    }
   ],
   "source": [
    "##check missing values\n",
    "df.isnull().sum()"
   ]
  },
  {
   "cell_type": "code",
   "execution_count": 6,
   "metadata": {
    "scrolled": false
   },
   "outputs": [
    {
     "data": {
      "text/html": [
       "<div>\n",
       "<style scoped>\n",
       "    .dataframe tbody tr th:only-of-type {\n",
       "        vertical-align: middle;\n",
       "    }\n",
       "\n",
       "    .dataframe tbody tr th {\n",
       "        vertical-align: top;\n",
       "    }\n",
       "\n",
       "    .dataframe thead th {\n",
       "        text-align: right;\n",
       "    }\n",
       "</style>\n",
       "<table border=\"1\" class=\"dataframe\">\n",
       "  <thead>\n",
       "    <tr style=\"text-align: right;\">\n",
       "      <th></th>\n",
       "      <th>Year</th>\n",
       "      <th>Present_Price</th>\n",
       "      <th>Kms_Driven</th>\n",
       "      <th>Owner</th>\n",
       "      <th>Selling_Price</th>\n",
       "    </tr>\n",
       "  </thead>\n",
       "  <tbody>\n",
       "    <tr>\n",
       "      <th>count</th>\n",
       "      <td>100.000000</td>\n",
       "      <td>100.000000</td>\n",
       "      <td>100.000000</td>\n",
       "      <td>100.00</td>\n",
       "      <td>100.000000</td>\n",
       "    </tr>\n",
       "    <tr>\n",
       "      <th>mean</th>\n",
       "      <td>2018.130000</td>\n",
       "      <td>12.912500</td>\n",
       "      <td>6881.890000</td>\n",
       "      <td>0.01</td>\n",
       "      <td>9.903000</td>\n",
       "    </tr>\n",
       "    <tr>\n",
       "      <th>std</th>\n",
       "      <td>2.092097</td>\n",
       "      <td>11.728417</td>\n",
       "      <td>10825.152475</td>\n",
       "      <td>0.10</td>\n",
       "      <td>7.893469</td>\n",
       "    </tr>\n",
       "    <tr>\n",
       "      <th>min</th>\n",
       "      <td>2003.000000</td>\n",
       "      <td>1.900000</td>\n",
       "      <td>900.000000</td>\n",
       "      <td>0.00</td>\n",
       "      <td>1.050000</td>\n",
       "    </tr>\n",
       "    <tr>\n",
       "      <th>25%</th>\n",
       "      <td>2017.000000</td>\n",
       "      <td>6.790000</td>\n",
       "      <td>2850.000000</td>\n",
       "      <td>0.00</td>\n",
       "      <td>4.937500</td>\n",
       "    </tr>\n",
       "    <tr>\n",
       "      <th>50%</th>\n",
       "      <td>2018.000000</td>\n",
       "      <td>9.400000</td>\n",
       "      <td>4243.500000</td>\n",
       "      <td>0.00</td>\n",
       "      <td>7.750000</td>\n",
       "    </tr>\n",
       "    <tr>\n",
       "      <th>75%</th>\n",
       "      <td>2019.000000</td>\n",
       "      <td>14.815000</td>\n",
       "      <td>5735.500000</td>\n",
       "      <td>0.00</td>\n",
       "      <td>10.950000</td>\n",
       "    </tr>\n",
       "    <tr>\n",
       "      <th>max</th>\n",
       "      <td>2020.000000</td>\n",
       "      <td>92.600000</td>\n",
       "      <td>65000.000000</td>\n",
       "      <td>1.00</td>\n",
       "      <td>35.000000</td>\n",
       "    </tr>\n",
       "  </tbody>\n",
       "</table>\n",
       "</div>"
      ],
      "text/plain": [
       "              Year  Present_Price    Kms_Driven   Owner  Selling_Price\n",
       "count   100.000000     100.000000    100.000000  100.00     100.000000\n",
       "mean   2018.130000      12.912500   6881.890000    0.01       9.903000\n",
       "std       2.092097      11.728417  10825.152475    0.10       7.893469\n",
       "min    2003.000000       1.900000    900.000000    0.00       1.050000\n",
       "25%    2017.000000       6.790000   2850.000000    0.00       4.937500\n",
       "50%    2018.000000       9.400000   4243.500000    0.00       7.750000\n",
       "75%    2019.000000      14.815000   5735.500000    0.00      10.950000\n",
       "max    2020.000000      92.600000  65000.000000    1.00      35.000000"
      ]
     },
     "execution_count": 6,
     "metadata": {},
     "output_type": "execute_result"
    }
   ],
   "source": [
    "df.describe()"
   ]
  },
  {
   "cell_type": "markdown",
   "metadata": {},
   "source": [
    "## Step 3.2: Pre-process Sample Data"
   ]
  },
  {
   "cell_type": "markdown",
   "metadata": {},
   "source": [
    "### Adding  the column of current year and Age of car"
   ]
  },
  {
   "cell_type": "code",
   "execution_count": 7,
   "metadata": {
    "scrolled": true
   },
   "outputs": [],
   "source": [
    "df['Current Year']=2020"
   ]
  },
  {
   "cell_type": "code",
   "execution_count": 8,
   "metadata": {
    "scrolled": true
   },
   "outputs": [],
   "source": [
    "df['Age']=df['Current Year']- df['Year']"
   ]
  },
  {
   "cell_type": "code",
   "execution_count": 9,
   "metadata": {
    "scrolled": true
   },
   "outputs": [
    {
     "data": {
      "text/html": [
       "<div>\n",
       "<style scoped>\n",
       "    .dataframe tbody tr th:only-of-type {\n",
       "        vertical-align: middle;\n",
       "    }\n",
       "\n",
       "    .dataframe tbody tr th {\n",
       "        vertical-align: top;\n",
       "    }\n",
       "\n",
       "    .dataframe thead th {\n",
       "        text-align: right;\n",
       "    }\n",
       "</style>\n",
       "<table border=\"1\" class=\"dataframe\">\n",
       "  <thead>\n",
       "    <tr style=\"text-align: right;\">\n",
       "      <th></th>\n",
       "      <th>Car_Name</th>\n",
       "      <th>Year</th>\n",
       "      <th>Present_Price</th>\n",
       "      <th>Kms_Driven</th>\n",
       "      <th>Fuel_Type</th>\n",
       "      <th>Seller_Type</th>\n",
       "      <th>Transmission</th>\n",
       "      <th>Owner</th>\n",
       "      <th>Selling_Price</th>\n",
       "      <th>Current Year</th>\n",
       "      <th>Age</th>\n",
       "    </tr>\n",
       "  </thead>\n",
       "  <tbody>\n",
       "    <tr>\n",
       "      <th>0</th>\n",
       "      <td>ritz</td>\n",
       "      <td>2019</td>\n",
       "      <td>5.59</td>\n",
       "      <td>2700</td>\n",
       "      <td>Petrol</td>\n",
       "      <td>Dealer</td>\n",
       "      <td>Manual</td>\n",
       "      <td>0</td>\n",
       "      <td>5.35</td>\n",
       "      <td>2020</td>\n",
       "      <td>1</td>\n",
       "    </tr>\n",
       "    <tr>\n",
       "      <th>1</th>\n",
       "      <td>sx4</td>\n",
       "      <td>2018</td>\n",
       "      <td>9.54</td>\n",
       "      <td>4300</td>\n",
       "      <td>Diesel</td>\n",
       "      <td>Dealer</td>\n",
       "      <td>Manual</td>\n",
       "      <td>0</td>\n",
       "      <td>8.75</td>\n",
       "      <td>2020</td>\n",
       "      <td>2</td>\n",
       "    </tr>\n",
       "    <tr>\n",
       "      <th>2</th>\n",
       "      <td>ciaz</td>\n",
       "      <td>2019</td>\n",
       "      <td>9.85</td>\n",
       "      <td>6900</td>\n",
       "      <td>Petrol</td>\n",
       "      <td>Dealer</td>\n",
       "      <td>Manual</td>\n",
       "      <td>0</td>\n",
       "      <td>8.35</td>\n",
       "      <td>2020</td>\n",
       "      <td>1</td>\n",
       "    </tr>\n",
       "    <tr>\n",
       "      <th>3</th>\n",
       "      <td>wagon r</td>\n",
       "      <td>2018</td>\n",
       "      <td>4.15</td>\n",
       "      <td>8200</td>\n",
       "      <td>Petrol</td>\n",
       "      <td>Dealer</td>\n",
       "      <td>Manual</td>\n",
       "      <td>0</td>\n",
       "      <td>3.85</td>\n",
       "      <td>2020</td>\n",
       "      <td>2</td>\n",
       "    </tr>\n",
       "    <tr>\n",
       "      <th>4</th>\n",
       "      <td>swift</td>\n",
       "      <td>2019</td>\n",
       "      <td>6.87</td>\n",
       "      <td>4250</td>\n",
       "      <td>Diesel</td>\n",
       "      <td>Dealer</td>\n",
       "      <td>Manual</td>\n",
       "      <td>0</td>\n",
       "      <td>5.86</td>\n",
       "      <td>2020</td>\n",
       "      <td>1</td>\n",
       "    </tr>\n",
       "  </tbody>\n",
       "</table>\n",
       "</div>"
      ],
      "text/plain": [
       "  Car_Name  Year  Present_Price  Kms_Driven Fuel_Type Seller_Type  \\\n",
       "0     ritz  2019           5.59        2700    Petrol      Dealer   \n",
       "1      sx4  2018           9.54        4300    Diesel      Dealer   \n",
       "2     ciaz  2019           9.85        6900    Petrol      Dealer   \n",
       "3  wagon r  2018           4.15        8200    Petrol      Dealer   \n",
       "4    swift  2019           6.87        4250    Diesel      Dealer   \n",
       "\n",
       "  Transmission  Owner  Selling_Price  Current Year  Age  \n",
       "0       Manual      0           5.35          2020    1  \n",
       "1       Manual      0           8.75          2020    2  \n",
       "2       Manual      0           8.35          2020    1  \n",
       "3       Manual      0           3.85          2020    2  \n",
       "4       Manual      0           5.86          2020    1  "
      ]
     },
     "execution_count": 9,
     "metadata": {},
     "output_type": "execute_result"
    }
   ],
   "source": [
    "df.head()"
   ]
  },
  {
   "cell_type": "code",
   "execution_count": 10,
   "metadata": {
    "scrolled": true
   },
   "outputs": [],
   "source": [
    "df.drop(['Year'],axis=1,inplace=True)"
   ]
  },
  {
   "cell_type": "code",
   "execution_count": 11,
   "metadata": {
    "scrolled": false
   },
   "outputs": [
    {
     "data": {
      "text/html": [
       "<div>\n",
       "<style scoped>\n",
       "    .dataframe tbody tr th:only-of-type {\n",
       "        vertical-align: middle;\n",
       "    }\n",
       "\n",
       "    .dataframe tbody tr th {\n",
       "        vertical-align: top;\n",
       "    }\n",
       "\n",
       "    .dataframe thead th {\n",
       "        text-align: right;\n",
       "    }\n",
       "</style>\n",
       "<table border=\"1\" class=\"dataframe\">\n",
       "  <thead>\n",
       "    <tr style=\"text-align: right;\">\n",
       "      <th></th>\n",
       "      <th>Car_Name</th>\n",
       "      <th>Present_Price</th>\n",
       "      <th>Kms_Driven</th>\n",
       "      <th>Fuel_Type</th>\n",
       "      <th>Seller_Type</th>\n",
       "      <th>Transmission</th>\n",
       "      <th>Owner</th>\n",
       "      <th>Selling_Price</th>\n",
       "      <th>Age</th>\n",
       "    </tr>\n",
       "  </thead>\n",
       "  <tbody>\n",
       "    <tr>\n",
       "      <th>0</th>\n",
       "      <td>ritz</td>\n",
       "      <td>5.59</td>\n",
       "      <td>2700</td>\n",
       "      <td>Petrol</td>\n",
       "      <td>Dealer</td>\n",
       "      <td>Manual</td>\n",
       "      <td>0</td>\n",
       "      <td>5.35</td>\n",
       "      <td>1</td>\n",
       "    </tr>\n",
       "    <tr>\n",
       "      <th>1</th>\n",
       "      <td>sx4</td>\n",
       "      <td>9.54</td>\n",
       "      <td>4300</td>\n",
       "      <td>Diesel</td>\n",
       "      <td>Dealer</td>\n",
       "      <td>Manual</td>\n",
       "      <td>0</td>\n",
       "      <td>8.75</td>\n",
       "      <td>2</td>\n",
       "    </tr>\n",
       "    <tr>\n",
       "      <th>2</th>\n",
       "      <td>ciaz</td>\n",
       "      <td>9.85</td>\n",
       "      <td>6900</td>\n",
       "      <td>Petrol</td>\n",
       "      <td>Dealer</td>\n",
       "      <td>Manual</td>\n",
       "      <td>0</td>\n",
       "      <td>8.35</td>\n",
       "      <td>1</td>\n",
       "    </tr>\n",
       "    <tr>\n",
       "      <th>3</th>\n",
       "      <td>wagon r</td>\n",
       "      <td>4.15</td>\n",
       "      <td>8200</td>\n",
       "      <td>Petrol</td>\n",
       "      <td>Dealer</td>\n",
       "      <td>Manual</td>\n",
       "      <td>0</td>\n",
       "      <td>3.85</td>\n",
       "      <td>2</td>\n",
       "    </tr>\n",
       "    <tr>\n",
       "      <th>4</th>\n",
       "      <td>swift</td>\n",
       "      <td>6.87</td>\n",
       "      <td>4250</td>\n",
       "      <td>Diesel</td>\n",
       "      <td>Dealer</td>\n",
       "      <td>Manual</td>\n",
       "      <td>0</td>\n",
       "      <td>5.86</td>\n",
       "      <td>1</td>\n",
       "    </tr>\n",
       "  </tbody>\n",
       "</table>\n",
       "</div>"
      ],
      "text/plain": [
       "  Car_Name  Present_Price  Kms_Driven Fuel_Type Seller_Type Transmission  \\\n",
       "0     ritz           5.59        2700    Petrol      Dealer       Manual   \n",
       "1      sx4           9.54        4300    Diesel      Dealer       Manual   \n",
       "2     ciaz           9.85        6900    Petrol      Dealer       Manual   \n",
       "3  wagon r           4.15        8200    Petrol      Dealer       Manual   \n",
       "4    swift           6.87        4250    Diesel      Dealer       Manual   \n",
       "\n",
       "   Owner  Selling_Price  Age  \n",
       "0      0           5.35    1  \n",
       "1      0           8.75    2  \n",
       "2      0           8.35    1  \n",
       "3      0           3.85    2  \n",
       "4      0           5.86    1  "
      ]
     },
     "execution_count": 11,
     "metadata": {},
     "output_type": "execute_result"
    }
   ],
   "source": [
    "final_dataset=df.drop(['Current Year'],axis=1)\n",
    "final_dataset.head()"
   ]
  },
  {
   "cell_type": "markdown",
   "metadata": {},
   "source": [
    "### Shifting the Depedant variable at the last column"
   ]
  },
  {
   "cell_type": "code",
   "execution_count": 12,
   "metadata": {
    "scrolled": true
   },
   "outputs": [],
   "source": [
    "final_dataset=df[['Present_Price','Kms_Driven','Fuel_Type','Seller_Type','Transmission','Owner','Age','Selling_Price']]"
   ]
  },
  {
   "cell_type": "code",
   "execution_count": 13,
   "metadata": {
    "scrolled": true
   },
   "outputs": [
    {
     "data": {
      "text/html": [
       "<div>\n",
       "<style scoped>\n",
       "    .dataframe tbody tr th:only-of-type {\n",
       "        vertical-align: middle;\n",
       "    }\n",
       "\n",
       "    .dataframe tbody tr th {\n",
       "        vertical-align: top;\n",
       "    }\n",
       "\n",
       "    .dataframe thead th {\n",
       "        text-align: right;\n",
       "    }\n",
       "</style>\n",
       "<table border=\"1\" class=\"dataframe\">\n",
       "  <thead>\n",
       "    <tr style=\"text-align: right;\">\n",
       "      <th></th>\n",
       "      <th>Present_Price</th>\n",
       "      <th>Kms_Driven</th>\n",
       "      <th>Fuel_Type</th>\n",
       "      <th>Seller_Type</th>\n",
       "      <th>Transmission</th>\n",
       "      <th>Owner</th>\n",
       "      <th>Age</th>\n",
       "      <th>Selling_Price</th>\n",
       "    </tr>\n",
       "  </thead>\n",
       "  <tbody>\n",
       "    <tr>\n",
       "      <th>0</th>\n",
       "      <td>5.59</td>\n",
       "      <td>2700</td>\n",
       "      <td>Petrol</td>\n",
       "      <td>Dealer</td>\n",
       "      <td>Manual</td>\n",
       "      <td>0</td>\n",
       "      <td>1</td>\n",
       "      <td>5.35</td>\n",
       "    </tr>\n",
       "    <tr>\n",
       "      <th>1</th>\n",
       "      <td>9.54</td>\n",
       "      <td>4300</td>\n",
       "      <td>Diesel</td>\n",
       "      <td>Dealer</td>\n",
       "      <td>Manual</td>\n",
       "      <td>0</td>\n",
       "      <td>2</td>\n",
       "      <td>8.75</td>\n",
       "    </tr>\n",
       "    <tr>\n",
       "      <th>2</th>\n",
       "      <td>9.85</td>\n",
       "      <td>6900</td>\n",
       "      <td>Petrol</td>\n",
       "      <td>Dealer</td>\n",
       "      <td>Manual</td>\n",
       "      <td>0</td>\n",
       "      <td>1</td>\n",
       "      <td>8.35</td>\n",
       "    </tr>\n",
       "    <tr>\n",
       "      <th>3</th>\n",
       "      <td>4.15</td>\n",
       "      <td>8200</td>\n",
       "      <td>Petrol</td>\n",
       "      <td>Dealer</td>\n",
       "      <td>Manual</td>\n",
       "      <td>0</td>\n",
       "      <td>2</td>\n",
       "      <td>3.85</td>\n",
       "    </tr>\n",
       "    <tr>\n",
       "      <th>4</th>\n",
       "      <td>6.87</td>\n",
       "      <td>4250</td>\n",
       "      <td>Diesel</td>\n",
       "      <td>Dealer</td>\n",
       "      <td>Manual</td>\n",
       "      <td>0</td>\n",
       "      <td>1</td>\n",
       "      <td>5.86</td>\n",
       "    </tr>\n",
       "  </tbody>\n",
       "</table>\n",
       "</div>"
      ],
      "text/plain": [
       "   Present_Price  Kms_Driven Fuel_Type Seller_Type Transmission  Owner  Age  \\\n",
       "0           5.59        2700    Petrol      Dealer       Manual      0    1   \n",
       "1           9.54        4300    Diesel      Dealer       Manual      0    2   \n",
       "2           9.85        6900    Petrol      Dealer       Manual      0    1   \n",
       "3           4.15        8200    Petrol      Dealer       Manual      0    2   \n",
       "4           6.87        4250    Diesel      Dealer       Manual      0    1   \n",
       "\n",
       "   Selling_Price  \n",
       "0           5.35  \n",
       "1           8.75  \n",
       "2           8.35  \n",
       "3           3.85  \n",
       "4           5.86  "
      ]
     },
     "execution_count": 13,
     "metadata": {},
     "output_type": "execute_result"
    }
   ],
   "source": [
    "final_dataset.head()"
   ]
  },
  {
   "cell_type": "markdown",
   "metadata": {},
   "source": [
    "# Step 4: Feature Extraction\n",
    "    o\tFeatures are already Extracted\n",
    "    o\tNo Feature Extraction needs to be Performed"
   ]
  },
  {
   "cell_type": "markdown",
   "metadata": {},
   "source": [
    "# Step 5: Label Encoding the Sample Data (Input and Output is converted in Numeric Representation)"
   ]
  },
  {
   "cell_type": "markdown",
   "metadata": {},
   "source": [
    "## Step 5.1: Train the Label Encoderand  Label Encode the Input"
   ]
  },
  {
   "cell_type": "code",
   "execution_count": 14,
   "metadata": {
    "scrolled": true
   },
   "outputs": [
    {
     "data": {
      "text/plain": [
       "LabelEncoder()"
      ]
     },
     "execution_count": 14,
     "metadata": {},
     "output_type": "execute_result"
    }
   ],
   "source": [
    "#Label Encoding\n",
    "fuel = pd.DataFrame({\"Fuel_Type\":[\"Petrol\",\"Diesel\"]}) \n",
    "transmission = pd.DataFrame({\"Transmission\":[\"Automatic\",\"Manual\"]}) \n",
    "seller = pd.DataFrame({\"Seller_Type\":[\"Dealer\",\"Individual\"]}) \n",
    "\n",
    "# Initialize the Label Encoders\n",
    "fuel_label_encoder = LabelEncoder() \n",
    "transmission_label_encoder = LabelEncoder() \n",
    "seller_label_encoder = LabelEncoder()\n",
    "\n",
    "# Train the Label Encoders \n",
    "fuel_label_encoder.fit(np.ravel(fuel)) \n",
    "transmission_label_encoder.fit(np.ravel(transmission)) \n",
    "seller_label_encoder.fit(np.ravel(seller)) "
   ]
  },
  {
   "cell_type": "code",
   "execution_count": 15,
   "metadata": {
    "scrolled": true
   },
   "outputs": [],
   "source": [
    "final_dataset_encoded= final_dataset.copy()\n",
    "final_dataset_original= final_dataset.copy()"
   ]
  },
  {
   "cell_type": "code",
   "execution_count": 16,
   "metadata": {
    "scrolled": true
   },
   "outputs": [
    {
     "name": "stdout",
     "output_type": "stream",
     "text": [
      "\n",
      "\n",
      "Real Attributes After Label Encoding:\n",
      "========================================\n",
      "\n",
      "   Fuel_Type  encoded_FuelType\n",
      "0     Petrol                 1\n",
      "1     Diesel                 0\n",
      "2     Petrol                 1\n",
      "3     Petrol                 1\n",
      "4     Diesel                 0\n",
      "..       ...               ...\n",
      "95    Petrol                 1\n",
      "96    Petrol                 1\n",
      "97    Diesel                 0\n",
      "98    Petrol                 1\n",
      "99    Petrol                 1\n",
      "\n",
      "[100 rows x 2 columns]\n"
     ]
    },
    {
     "name": "stderr",
     "output_type": "stream",
     "text": [
      "<ipython-input-16-8e5c84329152>:3: SettingWithCopyWarning: \n",
      "A value is trying to be set on a copy of a slice from a DataFrame.\n",
      "Try using .loc[row_indexer,col_indexer] = value instead\n",
      "\n",
      "See the caveats in the documentation: https://pandas.pydata.org/pandas-docs/stable/user_guide/indexing.html#returning-a-view-versus-a-copy\n",
      "  final_dataset[\"encoded_FuelType\"] = fuel_label_encoder.transform(final_dataset['Fuel_Type'])\n"
     ]
    }
   ],
   "source": [
    "print(\"\\n\\nReal Attributes After Label Encoding:\")\n",
    "print(\"========================================\\n\") \n",
    "final_dataset[\"encoded_FuelType\"] = fuel_label_encoder.transform(final_dataset['Fuel_Type']) \n",
    "print(final_dataset[[\"Fuel_Type\", \"encoded_FuelType\"]])"
   ]
  },
  {
   "cell_type": "code",
   "execution_count": 17,
   "metadata": {
    "scrolled": false
   },
   "outputs": [
    {
     "name": "stdout",
     "output_type": "stream",
     "text": [
      "\n",
      "\n",
      "Real Attributes After Label Encoding:\n",
      "========================================\n",
      "\n",
      "   Transmission  encoded_Transmission\n",
      "0        Manual                     1\n",
      "1        Manual                     1\n",
      "2        Manual                     1\n",
      "3        Manual                     1\n",
      "4        Manual                     1\n",
      "..          ...                   ...\n",
      "95       Manual                     1\n",
      "96    Automatic                     0\n",
      "97       Manual                     1\n",
      "98       Manual                     1\n",
      "99       Manual                     1\n",
      "\n",
      "[100 rows x 2 columns]\n"
     ]
    }
   ],
   "source": [
    "print(\"\\n\\nReal Attributes After Label Encoding:\")\n",
    "print(\"========================================\\n\") \n",
    "final_dataset[\"encoded_Transmission\"] = transmission_label_encoder.transform(final_dataset['Transmission']) \n",
    "print(final_dataset[[\"Transmission\", \"encoded_Transmission\"]])"
   ]
  },
  {
   "cell_type": "code",
   "execution_count": 18,
   "metadata": {
    "scrolled": true
   },
   "outputs": [
    {
     "name": "stdout",
     "output_type": "stream",
     "text": [
      "   Seller_Type  encoded_SellerType\n",
      "0       Dealer                   0\n",
      "1       Dealer                   0\n",
      "2       Dealer                   0\n",
      "3       Dealer                   0\n",
      "4       Dealer                   0\n",
      "..         ...                 ...\n",
      "95      Dealer                   0\n",
      "96      Dealer                   0\n",
      "97      Dealer                   0\n",
      "98      Dealer                   0\n",
      "99      Dealer                   0\n",
      "\n",
      "[100 rows x 2 columns]\n"
     ]
    }
   ],
   "source": [
    "final_dataset[\"encoded_SellerType\"] = seller_label_encoder.transform(final_dataset['Seller_Type']) \n",
    "print(final_dataset[[\"Seller_Type\", \"encoded_SellerType\"]])"
   ]
  },
  {
   "cell_type": "markdown",
   "metadata": {},
   "source": [
    "## Step 5.2: Label Encode the Output\n",
    "     o  As Output (Selling Price Attribute) is already in Numeric Representation.\n",
    "     o  Therefore, we will not Label Encode the Output."
   ]
  },
  {
   "cell_type": "markdown",
   "metadata": {},
   "source": [
    "## Step 5.3: Saving and printing encoded data"
   ]
  },
  {
   "cell_type": "code",
   "execution_count": 19,
   "metadata": {
    "scrolled": false
   },
   "outputs": [
    {
     "name": "stdout",
     "output_type": "stream",
     "text": [
      "\n",
      "\n",
      "Sample Data after Label Encoding of Output:\n",
      "===========================================\n",
      "\n",
      "    Present_Price  Kms_Driven  Fuel_Type  Seller_Type  Transmission  Owner  \\\n",
      "0            5.59        2700          1            0             1      0   \n",
      "1            9.54        4300          0            0             1      0   \n",
      "2            9.85        6900          1            0             1      0   \n",
      "3            4.15        8200          1            0             1      0   \n",
      "4            6.87        4250          0            0             1      0   \n",
      "5            9.83        2071          0            0             1      0   \n",
      "6            8.12        1876          1            0             1      0   \n",
      "7            8.61        3349          0            0             1      0   \n",
      "8           35.00        1000          1            0             0      0   \n",
      "9            8.89        2073          0            0             1      0   \n",
      "10           8.92        4237          0            0             1      0   \n",
      "11           3.60        2135          1            0             1      0   \n",
      "12          10.38        5100          0            0             1      0   \n",
      "13           9.94        1500          1            0             0      0   \n",
      "14           7.71        2600          1            0             1      0   \n",
      "15           7.21        7727          1            0             1      0   \n",
      "16          10.79        4300          0            0             1      0   \n",
      "17          10.79        4178          0            0             1      0   \n",
      "18          10.79       43000          0            0             1      0   \n",
      "19           5.09       35500          0            0             1      0   \n",
      "20           7.98        4442          1            0             1      0   \n",
      "21           3.95       25000          1            0             1      0   \n",
      "22           5.71        2400          1            0             1      0   \n",
      "23           8.01        5000          1            0             0      0   \n",
      "24           5.87        5538          1            0             1      0   \n",
      "25           6.49        1600          1            1             1      0   \n",
      "26          10.38        4500          0            0             1      0   \n",
      "27           5.98        5139          0            0             1      0   \n",
      "28           4.89        3500          1            0             1      0   \n",
      "29           7.49        3000          0            0             1      0   \n",
      "30           9.95        4500          0            0             1      0   \n",
      "31           8.06        4000          0            0             1      0   \n",
      "32           7.20        4867          1            0             1      0   \n",
      "33           7.98       62000          1            0             1      0   \n",
      "34           7.87        2424          1            0             0      0   \n",
      "35           3.98       46706          1            0             1      0   \n",
      "36           8.06        4580          0            0             1      0   \n",
      "37           2.69        5000          1            0             1      0   \n",
      "38          12.04        1000          1            0             0      0   \n",
      "39           4.89        6532          1            0             1      0   \n",
      "40           4.15       65000          1            0             1      0   \n",
      "41           7.71        2570          1            0             1      0   \n",
      "42           9.29        3700          1            0             0      0   \n",
      "43          30.61       17007          0            0             0      0   \n",
      "44          30.61        4000          0            0             0      0   \n",
      "45          19.77        1000          0            0             0      0   \n",
      "46          30.61        1300          0            1             0      0   \n",
      "47          10.21        9000          1            1             1      0   \n",
      "48           7.27        4034          1            0             1      0   \n",
      "49           6.80        3485          1            0             1      1   \n",
      "50          35.96        4000          0            0             0      0   \n",
      "51          30.00        5000          1            1             1      0   \n",
      "52           7.70        4088          1            0             1      0   \n",
      "53          35.96        7800          0            0             0      0   \n",
      "54          36.23        6000          0            0             0      0   \n",
      "55           6.95        4000          0            0             1      0   \n",
      "56          23.15         900          1            0             0      0   \n",
      "57          20.91       10000          1            0             1      0   \n",
      "58          18.61        5601          1            0             1      0   \n",
      "59          22.83        8000          1            0             0      0   \n",
      "60          30.61        8900          0            0             0      0   \n",
      "61          14.89        2300          0            0             1      0   \n",
      "62           7.85        4000          0            0             1      0   \n",
      "63          25.39        1500          0            0             0      0   \n",
      "64          13.46        3000          0            0             1      0   \n",
      "65          92.60        7800          0            0             1      0   \n",
      "66          13.74        5600          1            0             1      0   \n",
      "67           6.05        4000          1            0             1      0   \n",
      "68           6.76        4000          1            0             1      0   \n",
      "69          18.61        6200          1            0             1      0   \n",
      "70          16.09        5842          0            0             1      0   \n",
      "71          30.61        4000          0            0             0      0   \n",
      "72          18.61        7200          1            0             1      0   \n",
      "73          25.39        2900          0            0             0      0   \n",
      "74          18.64        8700          1            0             1      0   \n",
      "75          18.61        4500          1            0             1      0   \n",
      "76          20.45        5004          0            0             1      0   \n",
      "77           1.90        3000          1            1             1      0   \n",
      "78          14.79        4335          0            0             1      0   \n",
      "79          13.60        2271          1            0             1      0   \n",
      "80           5.70        2074          1            0             1      0   \n",
      "81           9.40        3600          1            0             1      0   \n",
      "82           4.43        1500          1            0             1      0   \n",
      "83           9.40        4578          1            0             1      0   \n",
      "84           9.40        3600          1            0             1      0   \n",
      "85           4.43        3888          1            0             1      0   \n",
      "86           6.79        3200          1            0             0      0   \n",
      "87           7.60        7762          0            0             1      0   \n",
      "88           9.40        6131          0            0             1      0   \n",
      "89           9.40        3618          1            0             0      0   \n",
      "90           5.70        2467          1            0             1      0   \n",
      "91           4.43        5700          1            0             1      0   \n",
      "92           9.40        6000          0            0             1      0   \n",
      "93           6.79        5213          0            0             1      0   \n",
      "94           9.40        4500          0            0             1      0   \n",
      "95           9.40        1501          1            0             1      0   \n",
      "96          14.79        1290          1            0             0      0   \n",
      "97           5.17        5300          0            0             1      0   \n",
      "98           5.70        4492          1            0             1      0   \n",
      "99           9.40        1514          1            0             1      0   \n",
      "\n",
      "    Age  Selling_Price  \n",
      "0     1           5.35  \n",
      "1     2           8.75  \n",
      "2     1           8.35  \n",
      "3     2           3.85  \n",
      "4     1           5.86  \n",
      "5     2           9.25  \n",
      "6     0           7.75  \n",
      "7     0           7.85  \n",
      "8    10          34.00  \n",
      "9     3           8.75  \n",
      "10    0           8.45  \n",
      "11    3           3.25  \n",
      "12    0           9.85  \n",
      "13    0           9.30  \n",
      "14    0           7.40  \n",
      "15    3           5.25  \n",
      "16    1           9.75  \n",
      "17    0          10.20  \n",
      "18    3           8.75  \n",
      "19    0           3.25  \n",
      "20    2           5.65  \n",
      "21    3           2.85  \n",
      "22    3           4.90  \n",
      "23    3           4.40  \n",
      "24    2           4.15  \n",
      "25    3           6.00  \n",
      "26    0           7.45  \n",
      "27    3           3.10  \n",
      "28    3           2.35  \n",
      "29    1           4.95  \n",
      "30    1           8.60  \n",
      "31    1           5.50  \n",
      "32    0           6.65  \n",
      "33   17           4.25  \n",
      "34    3           5.85  \n",
      "35    1           2.55  \n",
      "36    1           5.50  \n",
      "37    3           1.25  \n",
      "38    1          10.85  \n",
      "39    2           2.65  \n",
      "40    4           1.05  \n",
      "41    0           6.80  \n",
      "42    3           7.75  \n",
      "43    3          24.90  \n",
      "44    0          29.00  \n",
      "45    3          18.00  \n",
      "46    1          28.00  \n",
      "47    2           8.75  \n",
      "48    0           4.50  \n",
      "49    1           4.10  \n",
      "50    1          32.00  \n",
      "51    1          28.00  \n",
      "52    0           4.50  \n",
      "53    1          18.75  \n",
      "54    3          33.00  \n",
      "55    1           4.75  \n",
      "56    2          19.75  \n",
      "57    3          14.25  \n",
      "58    2          15.45  \n",
      "59    2          15.25  \n",
      "60    3          27.50  \n",
      "61    1          14.73  \n",
      "62    0           7.75  \n",
      "63    3          23.00  \n",
      "64    0          12.50  \n",
      "65    2          35.00  \n",
      "66    3           5.90  \n",
      "67    2           3.45  \n",
      "68    1           4.75  \n",
      "69    3           3.80  \n",
      "70    1          11.25  \n",
      "71    0          23.00  \n",
      "72    3           5.85  \n",
      "73    3          20.75  \n",
      "74    3          17.00  \n",
      "75    2           7.05  \n",
      "76    2           9.65  \n",
      "77    3           1.75  \n",
      "78    0          11.75  \n",
      "79    2          11.25  \n",
      "80    1           5.25  \n",
      "81    2           8.50  \n",
      "82    3           3.45  \n",
      "83    1           8.45  \n",
      "84    3           7.50  \n",
      "85    3           4.10  \n",
      "86    2           5.50  \n",
      "87    1           6.00  \n",
      "88    0           8.25  \n",
      "89    2           8.11  \n",
      "90    0           5.25  \n",
      "91    3           3.65  \n",
      "92    2           8.95  \n",
      "93    1           5.10  \n",
      "94    2           8.85  \n",
      "95    3           9.25  \n",
      "96    0          13.45  \n",
      "97    2           5.10  \n",
      "98    0           5.50  \n",
      "99    1           9.20  \n"
     ]
    }
   ],
   "source": [
    "# Print Original and Encoded Ouput Sample Data \n",
    "final_dataset_encoded[['Fuel_Type','Transmission','Seller_Type']] = final_dataset[['encoded_FuelType','encoded_Transmission','encoded_SellerType']] \n",
    "pd.set_option(\"display.max_rows\", None, \"display.max_columns\", None) \n",
    "print(\"\\n\\nSample Data after Label Encoding of Output:\") \n",
    "print(\"===========================================\\n\")\n",
    "pd.set_option(\"display.max_rows\", None, \"display.max_columns\", None) \n",
    "print(final_dataset_encoded)"
   ]
  },
  {
   "cell_type": "code",
   "execution_count": 20,
   "metadata": {
    "scrolled": true
   },
   "outputs": [],
   "source": [
    "dataset=final_dataset_encoded.copy()"
   ]
  },
  {
   "cell_type": "markdown",
   "metadata": {},
   "source": [
    "# Step 6: Execute the Training Phase "
   ]
  },
  {
   "cell_type": "markdown",
   "metadata": {},
   "source": [
    "## Step 6.1: Splitting Sample Data into Training Data and Testing Data"
   ]
  },
  {
   "cell_type": "code",
   "execution_count": 21,
   "metadata": {
    "scrolled": false
   },
   "outputs": [
    {
     "name": "stdout",
     "output_type": "stream",
     "text": [
      "\n",
      "\n",
      "Training Data:\n",
      "==============\n",
      "\n",
      "    Present_Price  Kms_Driven  Fuel_Type  Seller_Type  Transmission  Owner  \\\n",
      "0            5.59        2700          1            0             1      0   \n",
      "1            9.54        4300          0            0             1      0   \n",
      "2            9.85        6900          1            0             1      0   \n",
      "3            4.15        8200          1            0             1      0   \n",
      "4            6.87        4250          0            0             1      0   \n",
      "5            9.83        2071          0            0             1      0   \n",
      "6            8.12        1876          1            0             1      0   \n",
      "7            8.61        3349          0            0             1      0   \n",
      "8           35.00        1000          1            0             0      0   \n",
      "9            8.89        2073          0            0             1      0   \n",
      "10           8.92        4237          0            0             1      0   \n",
      "11           3.60        2135          1            0             1      0   \n",
      "12          10.38        5100          0            0             1      0   \n",
      "13           9.94        1500          1            0             0      0   \n",
      "14           7.71        2600          1            0             1      0   \n",
      "15           7.21        7727          1            0             1      0   \n",
      "16          10.79        4300          0            0             1      0   \n",
      "17          10.79        4178          0            0             1      0   \n",
      "18          10.79       43000          0            0             1      0   \n",
      "19           5.09       35500          0            0             1      0   \n",
      "20           7.98        4442          1            0             1      0   \n",
      "21           3.95       25000          1            0             1      0   \n",
      "22           5.71        2400          1            0             1      0   \n",
      "23           8.01        5000          1            0             0      0   \n",
      "24           5.87        5538          1            0             1      0   \n",
      "25           6.49        1600          1            1             1      0   \n",
      "26          10.38        4500          0            0             1      0   \n",
      "27           5.98        5139          0            0             1      0   \n",
      "28           4.89        3500          1            0             1      0   \n",
      "29           7.49        3000          0            0             1      0   \n",
      "30           9.95        4500          0            0             1      0   \n",
      "31           8.06        4000          0            0             1      0   \n",
      "32           7.20        4867          1            0             1      0   \n",
      "33           7.98       62000          1            0             1      0   \n",
      "34           7.87        2424          1            0             0      0   \n",
      "35           3.98       46706          1            0             1      0   \n",
      "36           8.06        4580          0            0             1      0   \n",
      "37           2.69        5000          1            0             1      0   \n",
      "38          12.04        1000          1            0             0      0   \n",
      "39           4.89        6532          1            0             1      0   \n",
      "40           4.15       65000          1            0             1      0   \n",
      "41           7.71        2570          1            0             1      0   \n",
      "42           9.29        3700          1            0             0      0   \n",
      "43          30.61       17007          0            0             0      0   \n",
      "44          30.61        4000          0            0             0      0   \n",
      "45          19.77        1000          0            0             0      0   \n",
      "46          30.61        1300          0            1             0      0   \n",
      "47          10.21        9000          1            1             1      0   \n",
      "48           7.27        4034          1            0             1      0   \n",
      "49           6.80        3485          1            0             1      1   \n",
      "50          35.96        4000          0            0             0      0   \n",
      "51          30.00        5000          1            1             1      0   \n",
      "52           7.70        4088          1            0             1      0   \n",
      "53          35.96        7800          0            0             0      0   \n",
      "54          36.23        6000          0            0             0      0   \n",
      "55           6.95        4000          0            0             1      0   \n",
      "56          23.15         900          1            0             0      0   \n",
      "57          20.91       10000          1            0             1      0   \n",
      "58          18.61        5601          1            0             1      0   \n",
      "59          22.83        8000          1            0             0      0   \n",
      "60          30.61        8900          0            0             0      0   \n",
      "61          14.89        2300          0            0             1      0   \n",
      "62           7.85        4000          0            0             1      0   \n",
      "63          25.39        1500          0            0             0      0   \n",
      "64          13.46        3000          0            0             1      0   \n",
      "65          92.60        7800          0            0             1      0   \n",
      "66          13.74        5600          1            0             1      0   \n",
      "67           6.05        4000          1            0             1      0   \n",
      "68           6.76        4000          1            0             1      0   \n",
      "69          18.61        6200          1            0             1      0   \n",
      "70          16.09        5842          0            0             1      0   \n",
      "71          30.61        4000          0            0             0      0   \n",
      "72          18.61        7200          1            0             1      0   \n",
      "73          25.39        2900          0            0             0      0   \n",
      "74          18.64        8700          1            0             1      0   \n",
      "75          18.61        4500          1            0             1      0   \n",
      "76          20.45        5004          0            0             1      0   \n",
      "77           1.90        3000          1            1             1      0   \n",
      "78          14.79        4335          0            0             1      0   \n",
      "79          13.60        2271          1            0             1      0   \n",
      "\n",
      "    Age  Selling_Price  \n",
      "0     1           5.35  \n",
      "1     2           8.75  \n",
      "2     1           8.35  \n",
      "3     2           3.85  \n",
      "4     1           5.86  \n",
      "5     2           9.25  \n",
      "6     0           7.75  \n",
      "7     0           7.85  \n",
      "8    10          34.00  \n",
      "9     3           8.75  \n",
      "10    0           8.45  \n",
      "11    3           3.25  \n",
      "12    0           9.85  \n",
      "13    0           9.30  \n",
      "14    0           7.40  \n",
      "15    3           5.25  \n",
      "16    1           9.75  \n",
      "17    0          10.20  \n",
      "18    3           8.75  \n",
      "19    0           3.25  \n",
      "20    2           5.65  \n",
      "21    3           2.85  \n",
      "22    3           4.90  \n",
      "23    3           4.40  \n",
      "24    2           4.15  \n",
      "25    3           6.00  \n",
      "26    0           7.45  \n",
      "27    3           3.10  \n",
      "28    3           2.35  \n",
      "29    1           4.95  \n",
      "30    1           8.60  \n",
      "31    1           5.50  \n",
      "32    0           6.65  \n",
      "33   17           4.25  \n",
      "34    3           5.85  \n",
      "35    1           2.55  \n",
      "36    1           5.50  \n",
      "37    3           1.25  \n",
      "38    1          10.85  \n",
      "39    2           2.65  \n",
      "40    4           1.05  \n",
      "41    0           6.80  \n",
      "42    3           7.75  \n",
      "43    3          24.90  \n",
      "44    0          29.00  \n",
      "45    3          18.00  \n",
      "46    1          28.00  \n",
      "47    2           8.75  \n",
      "48    0           4.50  \n",
      "49    1           4.10  \n",
      "50    1          32.00  \n",
      "51    1          28.00  \n",
      "52    0           4.50  \n",
      "53    1          18.75  \n",
      "54    3          33.00  \n",
      "55    1           4.75  \n",
      "56    2          19.75  \n",
      "57    3          14.25  \n",
      "58    2          15.45  \n",
      "59    2          15.25  \n",
      "60    3          27.50  \n",
      "61    1          14.73  \n",
      "62    0           7.75  \n",
      "63    3          23.00  \n",
      "64    0          12.50  \n",
      "65    2          35.00  \n",
      "66    3           5.90  \n",
      "67    2           3.45  \n",
      "68    1           4.75  \n",
      "69    3           3.80  \n",
      "70    1          11.25  \n",
      "71    0          23.00  \n",
      "72    3           5.85  \n",
      "73    3          20.75  \n",
      "74    3          17.00  \n",
      "75    2           7.05  \n",
      "76    2           9.65  \n",
      "77    3           1.75  \n",
      "78    0          11.75  \n",
      "79    2          11.25  \n",
      "\n",
      "\n",
      "Testing Data:\n",
      "==============\n",
      "\n",
      "    Present_Price  Kms_Driven  Fuel_Type  Seller_Type  Transmission  Owner  \\\n",
      "80           5.70        2074          1            0             1      0   \n",
      "81           9.40        3600          1            0             1      0   \n",
      "82           4.43        1500          1            0             1      0   \n",
      "83           9.40        4578          1            0             1      0   \n",
      "84           9.40        3600          1            0             1      0   \n",
      "85           4.43        3888          1            0             1      0   \n",
      "86           6.79        3200          1            0             0      0   \n",
      "87           7.60        7762          0            0             1      0   \n",
      "88           9.40        6131          0            0             1      0   \n",
      "89           9.40        3618          1            0             0      0   \n",
      "90           5.70        2467          1            0             1      0   \n",
      "91           4.43        5700          1            0             1      0   \n",
      "92           9.40        6000          0            0             1      0   \n",
      "93           6.79        5213          0            0             1      0   \n",
      "94           9.40        4500          0            0             1      0   \n",
      "95           9.40        1501          1            0             1      0   \n",
      "96          14.79        1290          1            0             0      0   \n",
      "97           5.17        5300          0            0             1      0   \n",
      "98           5.70        4492          1            0             1      0   \n",
      "99           9.40        1514          1            0             1      0   \n",
      "\n",
      "    Age  Selling_Price  \n",
      "80    1           5.25  \n",
      "81    2           8.50  \n",
      "82    3           3.45  \n",
      "83    1           8.45  \n",
      "84    3           7.50  \n",
      "85    3           4.10  \n",
      "86    2           5.50  \n",
      "87    1           6.00  \n",
      "88    0           8.25  \n",
      "89    2           8.11  \n",
      "90    0           5.25  \n",
      "91    3           3.65  \n",
      "92    2           8.95  \n",
      "93    1           5.10  \n",
      "94    2           8.85  \n",
      "95    3           9.25  \n",
      "96    0          13.45  \n",
      "97    2           5.10  \n",
      "98    0           5.50  \n",
      "99    1           9.20  \n"
     ]
    }
   ],
   "source": [
    "# Splitting Sample Data into Training Data and Testing Data\n",
    "\n",
    "''' \n",
    "*------------------- SPLIT_SAMPLE_DATA ---------------------*\n",
    "|        Function: train_test_split()                       |\n",
    "|              Purpose: Split arrays or matrices into       |\n",
    "|                       random train and test subsets       |\n",
    "|        Arguments:                                         |\n",
    "|              arrays: sequence of indexables               |\n",
    "|              test_size: float or int                      |\n",
    "|        Return:                                            |\n",
    "|              splitting: list                              |\n",
    "*-----------------------------------------------------------*\n",
    "'''\n",
    "\n",
    "training_data, testing_data = train_test_split( dataset, test_size=0.2 , random_state=0 , shuffle = False)\n",
    "\n",
    "# Save the Training and Testing Data into CSV File \n",
    "\n",
    "training_data.to_csv(r'training-data.csv', index = False, header = True)\n",
    "testing_data.to_csv(r'testing-data.csv', index = False, header = True)\n",
    "\n",
    "# print Training and Testing Data\n",
    "\n",
    "print(\"\\n\\nTraining Data:\")\n",
    "print(\"==============\\n\")\n",
    "pd.set_option(\"display.max_rows\", None, \"display.max_columns\", None)\n",
    "print(training_data)\n",
    "print(\"\\n\\nTesting Data:\")\n",
    "print(\"==============\\n\")\n",
    "pd.set_option(\"display.max_rows\", None, \"display.max_columns\", None)\n",
    "print(testing_data)"
   ]
  },
  {
   "cell_type": "markdown",
   "metadata": {},
   "source": [
    "## 6.2: Splitting Input Vectors and Outputs / Labels of Training Data"
   ]
  },
  {
   "cell_type": "code",
   "execution_count": 22,
   "metadata": {
    "scrolled": true
   },
   "outputs": [
    {
     "name": "stdout",
     "output_type": "stream",
     "text": [
      "\n",
      "\n",
      "Inputs Vectors (Feature Vectors) of Training Data:\n",
      "==================================================\n",
      "\n",
      "    Present_Price  Fuel_Type  Seller_Type  Transmission  Age  Kms_Driven  \\\n",
      "0            5.59          1            0             1    1        2700   \n",
      "1            9.54          0            0             1    2        4300   \n",
      "2            9.85          1            0             1    1        6900   \n",
      "3            4.15          1            0             1    2        8200   \n",
      "4            6.87          0            0             1    1        4250   \n",
      "5            9.83          0            0             1    2        2071   \n",
      "6            8.12          1            0             1    0        1876   \n",
      "7            8.61          0            0             1    0        3349   \n",
      "8           35.00          1            0             0   10        1000   \n",
      "9            8.89          0            0             1    3        2073   \n",
      "10           8.92          0            0             1    0        4237   \n",
      "11           3.60          1            0             1    3        2135   \n",
      "12          10.38          0            0             1    0        5100   \n",
      "13           9.94          1            0             0    0        1500   \n",
      "14           7.71          1            0             1    0        2600   \n",
      "15           7.21          1            0             1    3        7727   \n",
      "16          10.79          0            0             1    1        4300   \n",
      "17          10.79          0            0             1    0        4178   \n",
      "18          10.79          0            0             1    3       43000   \n",
      "19           5.09          0            0             1    0       35500   \n",
      "20           7.98          1            0             1    2        4442   \n",
      "21           3.95          1            0             1    3       25000   \n",
      "22           5.71          1            0             1    3        2400   \n",
      "23           8.01          1            0             0    3        5000   \n",
      "24           5.87          1            0             1    2        5538   \n",
      "25           6.49          1            1             1    3        1600   \n",
      "26          10.38          0            0             1    0        4500   \n",
      "27           5.98          0            0             1    3        5139   \n",
      "28           4.89          1            0             1    3        3500   \n",
      "29           7.49          0            0             1    1        3000   \n",
      "30           9.95          0            0             1    1        4500   \n",
      "31           8.06          0            0             1    1        4000   \n",
      "32           7.20          1            0             1    0        4867   \n",
      "33           7.98          1            0             1   17       62000   \n",
      "34           7.87          1            0             0    3        2424   \n",
      "35           3.98          1            0             1    1       46706   \n",
      "36           8.06          0            0             1    1        4580   \n",
      "37           2.69          1            0             1    3        5000   \n",
      "38          12.04          1            0             0    1        1000   \n",
      "39           4.89          1            0             1    2        6532   \n",
      "40           4.15          1            0             1    4       65000   \n",
      "41           7.71          1            0             1    0        2570   \n",
      "42           9.29          1            0             0    3        3700   \n",
      "43          30.61          0            0             0    3       17007   \n",
      "44          30.61          0            0             0    0        4000   \n",
      "45          19.77          0            0             0    3        1000   \n",
      "46          30.61          0            1             0    1        1300   \n",
      "47          10.21          1            1             1    2        9000   \n",
      "48           7.27          1            0             1    0        4034   \n",
      "49           6.80          1            0             1    1        3485   \n",
      "50          35.96          0            0             0    1        4000   \n",
      "51          30.00          1            1             1    1        5000   \n",
      "52           7.70          1            0             1    0        4088   \n",
      "53          35.96          0            0             0    1        7800   \n",
      "54          36.23          0            0             0    3        6000   \n",
      "55           6.95          0            0             1    1        4000   \n",
      "56          23.15          1            0             0    2         900   \n",
      "57          20.91          1            0             1    3       10000   \n",
      "58          18.61          1            0             1    2        5601   \n",
      "59          22.83          1            0             0    2        8000   \n",
      "60          30.61          0            0             0    3        8900   \n",
      "61          14.89          0            0             1    1        2300   \n",
      "62           7.85          0            0             1    0        4000   \n",
      "63          25.39          0            0             0    3        1500   \n",
      "64          13.46          0            0             1    0        3000   \n",
      "65          92.60          0            0             1    2        7800   \n",
      "66          13.74          1            0             1    3        5600   \n",
      "67           6.05          1            0             1    2        4000   \n",
      "68           6.76          1            0             1    1        4000   \n",
      "69          18.61          1            0             1    3        6200   \n",
      "70          16.09          0            0             1    1        5842   \n",
      "71          30.61          0            0             0    0        4000   \n",
      "72          18.61          1            0             1    3        7200   \n",
      "73          25.39          0            0             0    3        2900   \n",
      "74          18.64          1            0             1    3        8700   \n",
      "75          18.61          1            0             1    2        4500   \n",
      "76          20.45          0            0             1    2        5004   \n",
      "77           1.90          1            1             1    3        3000   \n",
      "78          14.79          0            0             1    0        4335   \n",
      "79          13.60          1            0             1    2        2271   \n",
      "\n",
      "    Owner  \n",
      "0       0  \n",
      "1       0  \n",
      "2       0  \n",
      "3       0  \n",
      "4       0  \n",
      "5       0  \n",
      "6       0  \n",
      "7       0  \n",
      "8       0  \n",
      "9       0  \n",
      "10      0  \n",
      "11      0  \n",
      "12      0  \n",
      "13      0  \n",
      "14      0  \n",
      "15      0  \n",
      "16      0  \n",
      "17      0  \n",
      "18      0  \n",
      "19      0  \n",
      "20      0  \n",
      "21      0  \n",
      "22      0  \n",
      "23      0  \n",
      "24      0  \n",
      "25      0  \n",
      "26      0  \n",
      "27      0  \n",
      "28      0  \n",
      "29      0  \n",
      "30      0  \n",
      "31      0  \n",
      "32      0  \n",
      "33      0  \n",
      "34      0  \n",
      "35      0  \n",
      "36      0  \n",
      "37      0  \n",
      "38      0  \n",
      "39      0  \n",
      "40      0  \n",
      "41      0  \n",
      "42      0  \n",
      "43      0  \n",
      "44      0  \n",
      "45      0  \n",
      "46      0  \n",
      "47      0  \n",
      "48      0  \n",
      "49      1  \n",
      "50      0  \n",
      "51      0  \n",
      "52      0  \n",
      "53      0  \n",
      "54      0  \n",
      "55      0  \n",
      "56      0  \n",
      "57      0  \n",
      "58      0  \n",
      "59      0  \n",
      "60      0  \n",
      "61      0  \n",
      "62      0  \n",
      "63      0  \n",
      "64      0  \n",
      "65      0  \n",
      "66      0  \n",
      "67      0  \n",
      "68      0  \n",
      "69      0  \n",
      "70      0  \n",
      "71      0  \n",
      "72      0  \n",
      "73      0  \n",
      "74      0  \n",
      "75      0  \n",
      "76      0  \n",
      "77      0  \n",
      "78      0  \n",
      "79      0  \n",
      "\n",
      "\n",
      "Outputs/Labels of Training Data:\n",
      "================================\n",
      "\n",
      "Selling Price\n",
      "    Selling_Price\n",
      "0            5.35\n",
      "1            8.75\n",
      "2            8.35\n",
      "3            3.85\n",
      "4            5.86\n",
      "5            9.25\n",
      "6            7.75\n",
      "7            7.85\n",
      "8           34.00\n",
      "9            8.75\n",
      "10           8.45\n",
      "11           3.25\n",
      "12           9.85\n",
      "13           9.30\n",
      "14           7.40\n",
      "15           5.25\n",
      "16           9.75\n",
      "17          10.20\n",
      "18           8.75\n",
      "19           3.25\n",
      "20           5.65\n",
      "21           2.85\n",
      "22           4.90\n",
      "23           4.40\n",
      "24           4.15\n",
      "25           6.00\n",
      "26           7.45\n",
      "27           3.10\n",
      "28           2.35\n",
      "29           4.95\n",
      "30           8.60\n",
      "31           5.50\n",
      "32           6.65\n",
      "33           4.25\n",
      "34           5.85\n",
      "35           2.55\n",
      "36           5.50\n",
      "37           1.25\n",
      "38          10.85\n",
      "39           2.65\n",
      "40           1.05\n",
      "41           6.80\n",
      "42           7.75\n",
      "43          24.90\n",
      "44          29.00\n",
      "45          18.00\n",
      "46          28.00\n",
      "47           8.75\n",
      "48           4.50\n",
      "49           4.10\n",
      "50          32.00\n",
      "51          28.00\n",
      "52           4.50\n",
      "53          18.75\n",
      "54          33.00\n",
      "55           4.75\n",
      "56          19.75\n",
      "57          14.25\n",
      "58          15.45\n",
      "59          15.25\n",
      "60          27.50\n",
      "61          14.73\n",
      "62           7.75\n",
      "63          23.00\n",
      "64          12.50\n",
      "65          35.00\n",
      "66           5.90\n",
      "67           3.45\n",
      "68           4.75\n",
      "69           3.80\n",
      "70          11.25\n",
      "71          23.00\n",
      "72           5.85\n",
      "73          20.75\n",
      "74          17.00\n",
      "75           7.05\n",
      "76           9.65\n",
      "77           1.75\n",
      "78          11.75\n",
      "79          11.25\n"
     ]
    }
   ],
   "source": [
    "# Splitting Input Vectors and Outputs / Labels of Training Data\n",
    "\n",
    "'''\n",
    "*---------------- SPLIT_INPUT_VECTORS_AND_LABELS --------------*\n",
    "|        Function: iloc()                                      |\n",
    "|            Purpose: Splitting Input Vector and Labels        |\n",
    "|        Arguments:                                            |\n",
    "|            Attribute: Name or Location Attribute to Split    |\n",
    "|        Return:                                               |\n",
    "|            Attribute: Split Attributes                       |\n",
    "*--------------------------------------------------------------*\n",
    "'''\n",
    "print(\"\\n\\nInputs Vectors (Feature Vectors) of Training Data:\")\n",
    "print(\"==================================================\\n\")\n",
    "input_vector_train = training_data[['Present_Price','Fuel_Type','Seller_Type','Transmission','Age','Kms_Driven','Owner']]\n",
    "print(input_vector_train)\n",
    "\n",
    "print(\"\\n\\nOutputs/Labels of Training Data:\")\n",
    "print(\"================================\\n\")\n",
    "print(\"Selling Price\")\n",
    "output_label_train = training_data[['Selling_Price']]\n",
    "print(output_label_train)"
   ]
  },
  {
   "cell_type": "markdown",
   "metadata": {},
   "source": [
    "## 6.3: Train the Regression Models"
   ]
  },
  {
   "cell_type": "markdown",
   "metadata": {},
   "source": [
    "### Linear Rergression"
   ]
  },
  {
   "cell_type": "code",
   "execution_count": 58,
   "metadata": {
    "scrolled": true
   },
   "outputs": [
    {
     "data": {
      "text/plain": [
       "LinearRegression()"
      ]
     },
     "execution_count": 58,
     "metadata": {},
     "output_type": "execute_result"
    }
   ],
   "source": [
    "# Train the Linear Regressor\n",
    "\n",
    "''' \n",
    "*--------------- TRAIN_SUPPORT_VECTOR_REGRESSOR  ------------------*\n",
    "|       Function: LinearRegression()                                       |\n",
    "|           Purpose: Train the Algorithm on Training Data          |\n",
    "|       Arguments:                                                 |\n",
    "|           Training Data: Provide Training Data to the Model      |\n",
    "|       Return:                                                    |\n",
    "|           Parameter: Model return the Training Parameters        |\n",
    "*------------------------------------------------------------------*\n",
    "'''\n",
    "\n",
    "\n",
    "Linear_Regressrion_Model = LinearRegression()\n",
    "Linear_Regressrion_Model.fit(input_vector_train,np.ravel(output_label_train))\n"
   ]
  },
  {
   "cell_type": "markdown",
   "metadata": {},
   "source": [
    "### Random Forest Regression:"
   ]
  },
  {
   "cell_type": "code",
   "execution_count": 53,
   "metadata": {
    "scrolled": true
   },
   "outputs": [
    {
     "data": {
      "text/plain": [
       "RandomForestRegressor(max_depth=2, random_state=0)"
      ]
     },
     "execution_count": 53,
     "metadata": {},
     "output_type": "execute_result"
    }
   ],
   "source": [
    "# Train the RANDOM_FOREST_REGRESSOR\n",
    "\n",
    "''' \n",
    "*--------------- TRAIN_RANDOM_FOREST_REGRESSOR  ------------------*\n",
    "|       Function: RandomForestRegressor()                                        |\n",
    "|           Purpose: Train the Algorithm on Training Data          |\n",
    "|       Arguments:                                                 |\n",
    "|           Training Data: Provide Training Data to the Model      |\n",
    "|       Return:                                                    |\n",
    "|           Parameter: Model return the Training Parameters        |\n",
    "*------------------------------------------------------------------*\n",
    "'''\n",
    "from sklearn.ensemble import RandomForestRegressor\n",
    "Random_Forest_Regression_Model = RandomForestRegressor(max_depth=2, random_state=0)\n",
    "Random_Forest_Regression_Model.fit(input_vector_train,np.ravel(output_label_train))"
   ]
  },
  {
   "cell_type": "markdown",
   "metadata": {},
   "source": [
    "###  Extra Trees Regressor"
   ]
  },
  {
   "cell_type": "code",
   "execution_count": 41,
   "metadata": {
    "scrolled": true
   },
   "outputs": [
    {
     "data": {
      "text/plain": [
       "ExtraTreesRegressor(random_state=0)"
      ]
     },
     "execution_count": 41,
     "metadata": {},
     "output_type": "execute_result"
    }
   ],
   "source": [
    "Extra_Tree_model = ExtraTreesRegressor(n_estimators=100, random_state=0)\n",
    "Extra_Tree_model.fit(input_vector_train,np.ravel(output_label_train))"
   ]
  },
  {
   "cell_type": "markdown",
   "metadata": {},
   "source": [
    "### Bayesian Ridge "
   ]
  },
  {
   "cell_type": "code",
   "execution_count": 48,
   "metadata": {
    "scrolled": true
   },
   "outputs": [
    {
     "data": {
      "text/plain": [
       "BayesianRidge()"
      ]
     },
     "execution_count": 48,
     "metadata": {},
     "output_type": "execute_result"
    }
   ],
   "source": [
    "from sklearn.linear_model import BayesianRidge \n",
    "Bayesian_Ridge_Model = BayesianRidge() \n",
    "Bayesian_Ridge_Model.fit(input_vector_train,np.ravel(output_label_train)) \n"
   ]
  },
  {
   "cell_type": "markdown",
   "metadata": {},
   "source": [
    "### Decision Tree Regressor"
   ]
  },
  {
   "cell_type": "code",
   "execution_count": 40,
   "metadata": {
    "scrolled": true
   },
   "outputs": [
    {
     "data": {
      "text/plain": [
       "DecisionTreeRegressor(max_depth=5)"
      ]
     },
     "execution_count": 40,
     "metadata": {},
     "output_type": "execute_result"
    }
   ],
   "source": [
    "from sklearn.tree import DecisionTreeRegressor\n",
    "DecisionTree_Model=DecisionTreeRegressor(max_depth=5)\n",
    "DecisionTree_Model.fit(input_vector_train,np.ravel(output_label_train)) \n"
   ]
  },
  {
   "cell_type": "markdown",
   "metadata": {},
   "source": [
    "### PassiveAggresive Regression"
   ]
  },
  {
   "cell_type": "code",
   "execution_count": 45,
   "metadata": {
    "scrolled": true
   },
   "outputs": [
    {
     "data": {
      "text/plain": [
       "PassiveAggressiveRegressor(max_iter=100, random_state=0)"
      ]
     },
     "execution_count": 45,
     "metadata": {},
     "output_type": "execute_result"
    }
   ],
   "source": [
    "from sklearn.linear_model import PassiveAggressiveRegressor\n",
    "from sklearn.datasets import make_regression\n",
    "input_vector_train,output_label_train= make_regression(n_features=7, random_state=0)\n",
    "PAR_Model = PassiveAggressiveRegressor(max_iter=100, random_state=0,tol=1e-3)\n",
    "PAR_Model.fit(input_vector_train,np.ravel(output_label_train))"
   ]
  },
  {
   "cell_type": "markdown",
   "metadata": {},
   "source": [
    "## Lasso"
   ]
  },
  {
   "cell_type": "code",
   "execution_count": 36,
   "metadata": {},
   "outputs": [
    {
     "data": {
      "text/plain": [
       "Lasso(alpha=0.1)"
      ]
     },
     "execution_count": 36,
     "metadata": {},
     "output_type": "execute_result"
    }
   ],
   "source": [
    "from sklearn import linear_model\n",
    "Lasso = linear_model.Lasso(alpha=0.1)\n",
    "Lasso.fit(input_vector_train,np.ravel(output_label_train))"
   ]
  },
  {
   "cell_type": "markdown",
   "metadata": {},
   "source": [
    "## GradientBoostingRegressor"
   ]
  },
  {
   "cell_type": "code",
   "execution_count": 31,
   "metadata": {},
   "outputs": [
    {
     "data": {
      "text/plain": [
       "GradientBoostingRegressor(max_depth=1, random_state=0)"
      ]
     },
     "execution_count": 31,
     "metadata": {},
     "output_type": "execute_result"
    }
   ],
   "source": [
    "from sklearn.ensemble import GradientBoostingRegressor\n",
    "GB=GradientBoostingRegressor(n_estimators=100,max_depth=1, random_state=0)\n",
    "GB.fit(input_vector_train,np.ravel(output_label_train))"
   ]
  },
  {
   "cell_type": "markdown",
   "metadata": {},
   "source": [
    "## HistGradientBoostingRegressor"
   ]
  },
  {
   "cell_type": "code",
   "execution_count": 23,
   "metadata": {},
   "outputs": [
    {
     "data": {
      "text/plain": [
       "HistGradientBoostingRegressor()"
      ]
     },
     "execution_count": 23,
     "metadata": {},
     "output_type": "execute_result"
    }
   ],
   "source": [
    "from sklearn.experimental import enable_hist_gradient_boosting  # noqa\n",
    "from sklearn.ensemble import HistGradientBoostingRegressor\n",
    "\n",
    "# positive, negative, and no constraint on the 3 features\n",
    "HGB = HistGradientBoostingRegressor()\n",
    "HGB.fit(input_vector_train,np.ravel(output_label_train))"
   ]
  },
  {
   "cell_type": "markdown",
   "metadata": {},
   "source": [
    "## Step 6.4: Save the Trained Models"
   ]
  },
  {
   "cell_type": "code",
   "execution_count": 64,
   "metadata": {
    "scrolled": true
   },
   "outputs": [],
   "source": [
    "# Save the Trained Models\n",
    "\n",
    "''' \n",
    "*--------------------- SAVE_THE_TRAINED_MODELS --------------------*\n",
    "|        Function: dump()                                          |\n",
    "|             Purpose: Save the Trained Model on your Hard Disk    |\n",
    "|        Arguments:                                                |\n",
    "|             Model: Model Objects                                 |\n",
    "|        Return:                                                   |\n",
    "|             File: Trained Model will be Saved on Hard Disk       |\n",
    "*------------------------------------------------------------------* \n",
    "'''\n",
    "\n",
    "# Save the Models in a Pkl File\n",
    "#pickle.dump(Linear_Regressrion_Model, open('Linear_Regressrion_Model.pkl', 'wb'))\n",
    "#pickle.dump(Random_Forest_Regression_Model, open('Random_Forest_Regression_Model.pkl', 'wb'))\n",
    "#pickle.dump(Bayesian_Ridge_Model, open('Bayesian_Ridge_Model.pkl', 'wb'))\n",
    "#pickle.dump(DecisionTree_Model, open('DecisionTree_Model.pkl', 'wb'))\n",
    "#pickle.dump(Extra_Tree_model, open('Extra_Tree_model.pkl', 'wb'))\n",
    "#pickle.dump(Lasso, open('Lasso_Model.pkl', 'wb'))\n",
    "#pickle.dump(GB, open('GB_Model.pkl', 'wb'))\n",
    "#pickle.dump(HGB, open('HGB_Model.pkl', 'wb'))"
   ]
  },
  {
   "cell_type": "markdown",
   "metadata": {},
   "source": [
    "# Step 7: Execute the Testing Phase "
   ]
  },
  {
   "cell_type": "markdown",
   "metadata": {},
   "source": [
    "## Step 7.1: Splitting Input Vectors and Outputs / Labels of Testing Data"
   ]
  },
  {
   "cell_type": "code",
   "execution_count": 27,
   "metadata": {
    "scrolled": true
   },
   "outputs": [
    {
     "name": "stdout",
     "output_type": "stream",
     "text": [
      "=================================================\n",
      "\n",
      "\n",
      "\n",
      "Outputs/Labels of Testing Data:\n",
      "==============================\n",
      "\n",
      "Selling Price\n"
     ]
    }
   ],
   "source": [
    "# Splitting Input Vectors and Outputs/Labels of Testing Data\n",
    "\n",
    "'''\n",
    "*---------------- SPLIT_INPUT_VECTORS_AND_LABELS --------------*\n",
    "|        Function: iloc()                                      |\n",
    "|            Purpose: Splitting Input Vector and Labels        |\n",
    "|        Arguments:                                            |\n",
    "|            Attribute: Name or Location Attribute to Split    |\n",
    "|        Return:                                               |\n",
    "|            Attribute: Split Attributes                       |\n",
    "*--------------------------------------------------------------*\n",
    "'''\n",
    "\n",
    "#print(\"\\n\\nInputs Vectors (Feature Vectors) of Testing Data:\")\n",
    "print(\"=================================================\\n\")\n",
    "input_vector_test = testing_data[['Present_Price','Fuel_Type','Seller_Type','Transmission','Age','Kms_Driven','Owner']]\n",
    "#print(input_vector_test)\n",
    "\n",
    "print(\"\\n\\nOutputs/Labels of Testing Data:\")\n",
    "print(\"==============================\\n\")\n",
    "print(\"Selling Price\")\n",
    "output_label_test = testing_data[['Selling_Price']]\n",
    "#print(output_label_test)"
   ]
  },
  {
   "cell_type": "markdown",
   "metadata": {},
   "source": [
    "## Step 7.2: Load the Saved Models one by one"
   ]
  },
  {
   "cell_type": "code",
   "execution_count": 65,
   "metadata": {
    "scrolled": true
   },
   "outputs": [],
   "source": [
    "#Linear=pickle.load(open('Linear_Regressrion_Model.pkl', 'rb'))\n",
    "#ExtraTree_model=pickle.load(open('Extra_Tree_model.pkl', 'rb'))\n",
    "#RF=pickle.load(open('Random_Forest_Regression_Model.pkl', 'rb'))\n",
    "#Bayesian=pickle.load(open('Bayesian_Ridge_Model.pkl', 'rb'))\n",
    "#DT=pickle.load(open('DecisionTree_Model.pkl', 'rb'))\n",
    "#Lasso=pickle.load(open('Lasso_Model.pkl', 'rb'))\n",
    "#GB=pickle.load(open('GB_Model.pkl', 'rb'))\n",
    "#HGB=pickle.load(open('HGB_Model.pkl', 'rb'))"
   ]
  },
  {
   "cell_type": "markdown",
   "metadata": {},
   "source": [
    "## Step 7.3: Evaluate the Machine Learning Model\n",
    "### Step 7.3.1: Make Predictions with the Trained Models on Testing Data"
   ]
  },
  {
   "cell_type": "code",
   "execution_count": 61,
   "metadata": {
    "scrolled": true
   },
   "outputs": [
    {
     "name": "stdout",
     "output_type": "stream",
     "text": [
      "\n",
      "\n",
      "Predictions Returned by Linear_Predictions:\n",
      "==========================================\n",
      "\n",
      "    Present_Price  Kms_Driven  Fuel_Type  Seller_Type  Transmission  Owner  \\\n",
      "80           5.70        2074          1            0             1      0   \n",
      "81           9.40        3600          1            0             1      0   \n",
      "82           4.43        1500          1            0             1      0   \n",
      "83           9.40        4578          1            0             1      0   \n",
      "84           9.40        3600          1            0             1      0   \n",
      "85           4.43        3888          1            0             1      0   \n",
      "86           6.79        3200          1            0             0      0   \n",
      "87           7.60        7762          0            0             1      0   \n",
      "88           9.40        6131          0            0             1      0   \n",
      "89           9.40        3618          1            0             0      0   \n",
      "90           5.70        2467          1            0             1      0   \n",
      "91           4.43        5700          1            0             1      0   \n",
      "92           9.40        6000          0            0             1      0   \n",
      "93           6.79        5213          0            0             1      0   \n",
      "94           9.40        4500          0            0             1      0   \n",
      "95           9.40        1501          1            0             1      0   \n",
      "96          14.79        1290          1            0             0      0   \n",
      "97           5.17        5300          0            0             1      0   \n",
      "98           5.70        4492          1            0             1      0   \n",
      "99           9.40        1514          1            0             1      0   \n",
      "\n",
      "    Age  Selling_Price  HGBPredictions  GBPredictions  LassoPredictions  \\\n",
      "80    1           5.25            5.40           5.44              4.59   \n",
      "81    2           8.50            7.73           8.33              6.37   \n",
      "82    3           3.45            4.14           4.21              4.28   \n",
      "83    1           8.45            5.98           7.82              6.20   \n",
      "84    3           7.50            7.73           8.10              6.50   \n",
      "85    3           4.10            3.51           3.29              4.16   \n",
      "86    2           5.50            3.57           5.13             10.53   \n",
      "87    1           6.00            7.38           4.61              7.03   \n",
      "88    0           8.25           10.40           7.53              7.83   \n",
      "89    2           8.11            7.67           8.33             11.73   \n",
      "90    0           5.25            5.40           5.07              4.44   \n",
      "91    3           3.65            2.04           2.79              4.07   \n",
      "92    2           8.95           10.35           7.82              8.09   \n",
      "93    1           5.10            6.06           4.63              6.78   \n",
      "94    2           8.85            8.77           7.82              8.16   \n",
      "95    3           9.25            8.31           9.02              6.60   \n",
      "96    0          13.45           13.54          11.64             14.11   \n",
      "97    2           5.10            4.80           3.29              6.14   \n",
      "98    0           5.50            1.82           4.02              4.34   \n",
      "99    1           9.20            9.57           9.25              6.35   \n",
      "\n",
      "    DecisionTreePredictions  ExtraTreePredictions  BayesianPredictions  \\\n",
      "80                     4.19                  5.11                 4.43   \n",
      "81                     8.79                  8.08                 6.25   \n",
      "82                     2.96                  3.09                 4.22   \n",
      "83                     8.79                  7.76                 6.02   \n",
      "84                     8.42                  7.82                 6.42   \n",
      "85                     2.96                  2.75                 4.09   \n",
      "86                     5.14                  6.33                10.25   \n",
      "87                     5.14                  5.38                 7.18   \n",
      "88                     8.79                  8.95                 7.93   \n",
      "89                     8.79                  8.33                11.45   \n",
      "90                     5.22                  5.22                 4.24   \n",
      "91                     2.96                  2.71                 4.00   \n",
      "92                     8.79                  9.02                 8.29   \n",
      "93                     5.14                  5.62                 6.94   \n",
      "94                     8.79                  8.66                 8.37   \n",
      "95                     8.42                  8.07                 6.53   \n",
      "96                    11.85                 11.69                13.73   \n",
      "97                     2.96                  3.40                 6.35   \n",
      "98                     5.22                  4.82                 4.13   \n",
      "99                     8.79                  8.46                 6.18   \n",
      "\n",
      "    RFPredictions  LinearPredictions  \n",
      "80           4.54               4.13  \n",
      "81           9.36               5.88  \n",
      "82           4.54               3.91  \n",
      "83           9.36               5.68  \n",
      "84           9.36               6.04  \n",
      "85           4.54               3.80  \n",
      "86           4.54              10.80  \n",
      "87           4.59               7.19  \n",
      "88           9.36               7.91  \n",
      "89           9.36              11.95  \n",
      "90           4.54               3.95  \n",
      "91           4.54               3.72  \n",
      "92           9.36               8.24  \n",
      "93           4.54               6.94  \n",
      "94           9.36               8.31  \n",
      "95           9.36               6.14  \n",
      "96           9.69              14.15  \n",
      "97           4.54               6.37  \n",
      "98           4.54               3.86  \n",
      "99           9.36               5.81  \n"
     ]
    }
   ],
   "source": [
    "Linear_Predictions =Linear.predict(input_vector_test)\n",
    "testing_data.copy(deep=True)\n",
    "pd.options.mode.chained_assignment = None\n",
    "testing_data[\"LinearPredictions\"] = np.round(Linear_Predictions,2)\n",
    "\n",
    "# Save the Predictions into CSV File\n",
    "\n",
    "testing_data.to_csv(r'Linear_Predictions.csv', index = False, header = True)\n",
    "\n",
    "Linear_Predictions= testing_data \n",
    "print(\"\\n\\nPredictions Returned by Linear_Predictions:\")\n",
    "print(\"==========================================\\n\")\n",
    "print(Linear_Predictions)"
   ]
  },
  {
   "cell_type": "code",
   "execution_count": 66,
   "metadata": {
    "scrolled": true
   },
   "outputs": [
    {
     "name": "stdout",
     "output_type": "stream",
     "text": [
      "\n",
      "\n",
      "Predictions Returned by svr_trained_model:\n",
      "==========================================\n",
      "\n",
      "    Present_Price  Kms_Driven  Fuel_Type  Seller_Type  Transmission  Owner  \\\n",
      "80           5.70        2074          1            0             1      0   \n",
      "81           9.40        3600          1            0             1      0   \n",
      "82           4.43        1500          1            0             1      0   \n",
      "83           9.40        4578          1            0             1      0   \n",
      "84           9.40        3600          1            0             1      0   \n",
      "85           4.43        3888          1            0             1      0   \n",
      "86           6.79        3200          1            0             0      0   \n",
      "87           7.60        7762          0            0             1      0   \n",
      "88           9.40        6131          0            0             1      0   \n",
      "89           9.40        3618          1            0             0      0   \n",
      "90           5.70        2467          1            0             1      0   \n",
      "91           4.43        5700          1            0             1      0   \n",
      "92           9.40        6000          0            0             1      0   \n",
      "93           6.79        5213          0            0             1      0   \n",
      "94           9.40        4500          0            0             1      0   \n",
      "95           9.40        1501          1            0             1      0   \n",
      "96          14.79        1290          1            0             0      0   \n",
      "97           5.17        5300          0            0             1      0   \n",
      "98           5.70        4492          1            0             1      0   \n",
      "99           9.40        1514          1            0             1      0   \n",
      "\n",
      "    Age  Selling_Price  HGBPredictions  GBPredictions  LassoPredictions  \\\n",
      "80    1           5.25            5.40           5.44              4.59   \n",
      "81    2           8.50            7.73           8.33              6.37   \n",
      "82    3           3.45            4.14           4.21              4.28   \n",
      "83    1           8.45            5.98           7.82              6.20   \n",
      "84    3           7.50            7.73           8.10              6.50   \n",
      "85    3           4.10            3.51           3.29              4.16   \n",
      "86    2           5.50            3.57           5.13             10.53   \n",
      "87    1           6.00            7.38           4.61              7.03   \n",
      "88    0           8.25           10.40           7.53              7.83   \n",
      "89    2           8.11            7.67           8.33             11.73   \n",
      "90    0           5.25            5.40           5.07              4.44   \n",
      "91    3           3.65            2.04           2.79              4.07   \n",
      "92    2           8.95           10.35           7.82              8.09   \n",
      "93    1           5.10            6.06           4.63              6.78   \n",
      "94    2           8.85            8.77           7.82              8.16   \n",
      "95    3           9.25            8.31           9.02              6.60   \n",
      "96    0          13.45           13.54          11.64             14.11   \n",
      "97    2           5.10            4.80           3.29              6.14   \n",
      "98    0           5.50            1.82           4.02              4.34   \n",
      "99    1           9.20            9.57           9.25              6.35   \n",
      "\n",
      "    DecisionTreePredictions  ExtraTreePredictions  BayesianPredictions  \\\n",
      "80                     4.19                  5.11                 4.43   \n",
      "81                     8.79                  8.08                 6.25   \n",
      "82                     2.96                  3.09                 4.22   \n",
      "83                     8.79                  7.76                 6.02   \n",
      "84                     8.42                  7.82                 6.42   \n",
      "85                     2.96                  2.75                 4.09   \n",
      "86                     5.14                  6.33                10.25   \n",
      "87                     5.14                  5.38                 7.18   \n",
      "88                     8.79                  8.95                 7.93   \n",
      "89                     8.79                  8.33                11.45   \n",
      "90                     5.22                  5.22                 4.24   \n",
      "91                     2.96                  2.71                 4.00   \n",
      "92                     8.79                  9.02                 8.29   \n",
      "93                     5.14                  5.62                 6.94   \n",
      "94                     8.79                  8.66                 8.37   \n",
      "95                     8.42                  8.07                 6.53   \n",
      "96                    11.85                 11.69                13.73   \n",
      "97                     2.96                  3.40                 6.35   \n",
      "98                     5.22                  4.82                 4.13   \n",
      "99                     8.79                  8.46                 6.18   \n",
      "\n",
      "    RFPredictions  LinearPredictions  SVRPredictions  \n",
      "80           4.54               4.13           10.40  \n",
      "81           9.36               5.88           10.75  \n",
      "82           4.54               3.91           10.73  \n",
      "83           9.36               5.68            8.14  \n",
      "84           9.36               6.04           10.75  \n",
      "85           4.54               3.80           10.75  \n",
      "86           4.54              10.80           10.75  \n",
      "87           4.59               7.19           10.75  \n",
      "88           9.36               7.91           10.75  \n",
      "89           9.36              11.95           10.75  \n",
      "90           4.54               3.95           10.75  \n",
      "91           4.54               3.72           10.75  \n",
      "92           9.36               8.24           10.75  \n",
      "93           4.54               6.94           10.75  \n",
      "94           9.36               8.31            9.75  \n",
      "95           9.36               6.14           10.31  \n",
      "96           9.69              14.15           10.75  \n",
      "97           4.54               6.37           10.75  \n",
      "98           4.54               3.86           10.75  \n",
      "99           9.36               5.81           10.75  \n"
     ]
    }
   ],
   "source": [
    "# Evaluate the Machine Learning Model\n",
    "\n",
    "''' \n",
    "*--------------------- EVALUATE_MACHINE_LEARNING_MODEL ----------------------*\n",
    "|       Function: Predict()                                                  |\n",
    "|             Purpose: Make a Prediction using Algorithm on Test Data        |\n",
    "|       Arguments:                                                           |\n",
    "|            Testing Data: Provide Test data to the Trained Model            |\n",
    "|       Return:                                                              |\n",
    "|            Predictions: Model return Predictions                           |\n",
    "*----------------------------------------------------------------------------* \n",
    "'''\n",
    "SVR_Predictions = SVR.predict(input_vector_test)\n",
    "testing_data.copy(deep=True)\n",
    "pd.options.mode.chained_assignment = None\n",
    "testing_data[\"SVRPredictions\"] = np.round(SVR_Predictions,2)\n",
    "\n",
    "# Save the Predictions into CSV File\n",
    "\n",
    "testing_data.to_csv(r'SVR_Predictions.csv', index = False, header = True)\n",
    "\n",
    "SVR_Predictions = testing_data \n",
    "print(\"\\n\\nPredictions Returned by svr_trained_model:\")\n",
    "print(\"==========================================\\n\")\n",
    "print(SVR_Predictions)"
   ]
  },
  {
   "cell_type": "code",
   "execution_count": 45,
   "metadata": {
    "scrolled": true
   },
   "outputs": [
    {
     "name": "stdout",
     "output_type": "stream",
     "text": [
      "\n",
      "\n",
      "Predictions Returned by ExtraTree_Predictions:\n",
      "==========================================\n",
      "\n"
     ]
    }
   ],
   "source": [
    "ExtraTree_Predictions =ExtraTree_model.predict(input_vector_test)\n",
    "testing_data.copy(deep=True)\n",
    "pd.options.mode.chained_assignment = None\n",
    "testing_data[\"ExtraTreePredictions\"] = np.round(ExtraTree_Predictions,2)\n",
    "\n",
    "# Save the Predictions into CSV File\n",
    "\n",
    "testing_data.to_csv(r'ExtraTree_Predictions.csv', index = False, header = True)\n",
    "\n",
    "ExtraTree_Predictions = testing_data \n",
    "print(\"\\n\\nPredictions Returned by ExtraTree_Predictions:\")\n",
    "print(\"==========================================\\n\")\n",
    "#print(ExtraTree_Predictions.head())\n"
   ]
  },
  {
   "cell_type": "code",
   "execution_count": 44,
   "metadata": {
    "scrolled": true
   },
   "outputs": [
    {
     "name": "stdout",
     "output_type": "stream",
     "text": [
      "\n",
      "\n",
      "Predictions Returned by DecisionTree_Predictions:\n",
      "==========================================\n",
      "\n"
     ]
    }
   ],
   "source": [
    "DecisionTree_Predictions =DT.predict(input_vector_test)\n",
    "testing_data.copy(deep=True)\n",
    "pd.options.mode.chained_assignment = None\n",
    "testing_data[\"DecisionTreePredictions\"] = np.round(DecisionTree_Predictions,2)\n",
    "\n",
    "# Save the Predictions into CSV File\n",
    "\n",
    "testing_data.to_csv(r'DecisionTree_Predictions.csv', index = False, header = True)\n",
    "\n",
    "DecisionTree_Predictions = testing_data \n",
    "print(\"\\n\\nPredictions Returned by DecisionTree_Predictions:\")\n",
    "print(\"==========================================\\n\")\n",
    "#print(DecisionTree_Predictions.head())"
   ]
  },
  {
   "cell_type": "code",
   "execution_count": 51,
   "metadata": {
    "scrolled": true
   },
   "outputs": [
    {
     "name": "stdout",
     "output_type": "stream",
     "text": [
      "\n",
      "\n",
      "Predictions Returned by Bayesian_Predictions:\n",
      "==========================================\n",
      "\n"
     ]
    }
   ],
   "source": [
    "Bayesian_Predictions =Bayesian.predict(input_vector_test)\n",
    "testing_data.copy(deep=True)\n",
    "pd.options.mode.chained_assignment = None\n",
    "testing_data[\"BayesianPredictions\"] = np.round(Bayesian_Predictions,2)\n",
    "\n",
    "# Save the Predictions into CSV File\n",
    "\n",
    "testing_data.to_csv(r'Bayesian_Predictions.csv', index = False, header = True)\n",
    "\n",
    "Bayesian_Predictions = testing_data \n",
    "print(\"\\n\\nPredictions Returned by Bayesian_Predictions:\")\n",
    "print(\"==========================================\\n\")\n",
    "#print(Bayesian_Predictions.head())"
   ]
  },
  {
   "cell_type": "code",
   "execution_count": 56,
   "metadata": {
    "scrolled": true
   },
   "outputs": [
    {
     "name": "stdout",
     "output_type": "stream",
     "text": [
      "\n",
      "\n",
      "Predictions Returned by RF_Predictions:\n",
      "==========================================\n",
      "\n",
      "    Present_Price  Kms_Driven  Fuel_Type  Seller_Type  Transmission  Owner  \\\n",
      "80           5.70        2074          1            0             1      0   \n",
      "81           9.40        3600          1            0             1      0   \n",
      "82           4.43        1500          1            0             1      0   \n",
      "83           9.40        4578          1            0             1      0   \n",
      "84           9.40        3600          1            0             1      0   \n",
      "85           4.43        3888          1            0             1      0   \n",
      "86           6.79        3200          1            0             0      0   \n",
      "87           7.60        7762          0            0             1      0   \n",
      "88           9.40        6131          0            0             1      0   \n",
      "89           9.40        3618          1            0             0      0   \n",
      "90           5.70        2467          1            0             1      0   \n",
      "91           4.43        5700          1            0             1      0   \n",
      "92           9.40        6000          0            0             1      0   \n",
      "93           6.79        5213          0            0             1      0   \n",
      "94           9.40        4500          0            0             1      0   \n",
      "95           9.40        1501          1            0             1      0   \n",
      "96          14.79        1290          1            0             0      0   \n",
      "97           5.17        5300          0            0             1      0   \n",
      "98           5.70        4492          1            0             1      0   \n",
      "99           9.40        1514          1            0             1      0   \n",
      "\n",
      "    Age  Selling_Price  HGBPredictions  GBPredictions  LassoPredictions  \\\n",
      "80    1           5.25            5.40           5.44              4.59   \n",
      "81    2           8.50            7.73           8.33              6.37   \n",
      "82    3           3.45            4.14           4.21              4.28   \n",
      "83    1           8.45            5.98           7.82              6.20   \n",
      "84    3           7.50            7.73           8.10              6.50   \n",
      "85    3           4.10            3.51           3.29              4.16   \n",
      "86    2           5.50            3.57           5.13             10.53   \n",
      "87    1           6.00            7.38           4.61              7.03   \n",
      "88    0           8.25           10.40           7.53              7.83   \n",
      "89    2           8.11            7.67           8.33             11.73   \n",
      "90    0           5.25            5.40           5.07              4.44   \n",
      "91    3           3.65            2.04           2.79              4.07   \n",
      "92    2           8.95           10.35           7.82              8.09   \n",
      "93    1           5.10            6.06           4.63              6.78   \n",
      "94    2           8.85            8.77           7.82              8.16   \n",
      "95    3           9.25            8.31           9.02              6.60   \n",
      "96    0          13.45           13.54          11.64             14.11   \n",
      "97    2           5.10            4.80           3.29              6.14   \n",
      "98    0           5.50            1.82           4.02              4.34   \n",
      "99    1           9.20            9.57           9.25              6.35   \n",
      "\n",
      "    DecisionTreePredictions  ExtraTreePredictions  BayesianPredictions  \\\n",
      "80                     4.19                  5.11                 4.43   \n",
      "81                     8.79                  8.08                 6.25   \n",
      "82                     2.96                  3.09                 4.22   \n",
      "83                     8.79                  7.76                 6.02   \n",
      "84                     8.42                  7.82                 6.42   \n",
      "85                     2.96                  2.75                 4.09   \n",
      "86                     5.14                  6.33                10.25   \n",
      "87                     5.14                  5.38                 7.18   \n",
      "88                     8.79                  8.95                 7.93   \n",
      "89                     8.79                  8.33                11.45   \n",
      "90                     5.22                  5.22                 4.24   \n",
      "91                     2.96                  2.71                 4.00   \n",
      "92                     8.79                  9.02                 8.29   \n",
      "93                     5.14                  5.62                 6.94   \n",
      "94                     8.79                  8.66                 8.37   \n",
      "95                     8.42                  8.07                 6.53   \n",
      "96                    11.85                 11.69                13.73   \n",
      "97                     2.96                  3.40                 6.35   \n",
      "98                     5.22                  4.82                 4.13   \n",
      "99                     8.79                  8.46                 6.18   \n",
      "\n",
      "    RFPredictions  \n",
      "80           4.54  \n",
      "81           9.36  \n",
      "82           4.54  \n",
      "83           9.36  \n",
      "84           9.36  \n",
      "85           4.54  \n",
      "86           4.54  \n",
      "87           4.59  \n",
      "88           9.36  \n",
      "89           9.36  \n",
      "90           4.54  \n",
      "91           4.54  \n",
      "92           9.36  \n",
      "93           4.54  \n",
      "94           9.36  \n",
      "95           9.36  \n",
      "96           9.69  \n",
      "97           4.54  \n",
      "98           4.54  \n",
      "99           9.36  \n"
     ]
    }
   ],
   "source": [
    "RF_Predictions =RF.predict(input_vector_test)\n",
    "testing_data.copy(deep=True)\n",
    "pd.options.mode.chained_assignment = None\n",
    "testing_data[\"RFPredictions\"] = np.round(RF_Predictions,2)\n",
    "\n",
    "# Save the Predictions into CSV File\n",
    "\n",
    "testing_data.to_csv(r'RF_Predictions.csv', index = False, header = True)\n",
    "\n",
    "RF_Predictions = testing_data \n",
    "print(\"\\n\\nPredictions Returned by RF_Predictions:\")\n",
    "print(\"==========================================\\n\")\n",
    "print(RF_Predictions)"
   ]
  },
  {
   "cell_type": "code",
   "execution_count": 34,
   "metadata": {
    "scrolled": true
   },
   "outputs": [
    {
     "name": "stdout",
     "output_type": "stream",
     "text": [
      "\n",
      "\n",
      "Predictions Returned by GB_Predictions:\n",
      "==========================================\n",
      "\n",
      "    Present_Price  Kms_Driven  Fuel_Type  Seller_Type  Transmission  Owner  \\\n",
      "80           5.70        2074          1            0             1      0   \n",
      "81           9.40        3600          1            0             1      0   \n",
      "82           4.43        1500          1            0             1      0   \n",
      "83           9.40        4578          1            0             1      0   \n",
      "84           9.40        3600          1            0             1      0   \n",
      "85           4.43        3888          1            0             1      0   \n",
      "86           6.79        3200          1            0             0      0   \n",
      "87           7.60        7762          0            0             1      0   \n",
      "88           9.40        6131          0            0             1      0   \n",
      "89           9.40        3618          1            0             0      0   \n",
      "90           5.70        2467          1            0             1      0   \n",
      "91           4.43        5700          1            0             1      0   \n",
      "92           9.40        6000          0            0             1      0   \n",
      "93           6.79        5213          0            0             1      0   \n",
      "94           9.40        4500          0            0             1      0   \n",
      "95           9.40        1501          1            0             1      0   \n",
      "96          14.79        1290          1            0             0      0   \n",
      "97           5.17        5300          0            0             1      0   \n",
      "98           5.70        4492          1            0             1      0   \n",
      "99           9.40        1514          1            0             1      0   \n",
      "\n",
      "    Age  Selling_Price  HGBPredictions  GBPredictions  \n",
      "80    1           5.25            5.40           5.44  \n",
      "81    2           8.50            7.73           8.33  \n",
      "82    3           3.45            4.14           4.21  \n",
      "83    1           8.45            5.98           7.82  \n",
      "84    3           7.50            7.73           8.10  \n",
      "85    3           4.10            3.51           3.29  \n",
      "86    2           5.50            3.57           5.13  \n",
      "87    1           6.00            7.38           4.61  \n",
      "88    0           8.25           10.40           7.53  \n",
      "89    2           8.11            7.67           8.33  \n",
      "90    0           5.25            5.40           5.07  \n",
      "91    3           3.65            2.04           2.79  \n",
      "92    2           8.95           10.35           7.82  \n",
      "93    1           5.10            6.06           4.63  \n",
      "94    2           8.85            8.77           7.82  \n",
      "95    3           9.25            8.31           9.02  \n",
      "96    0          13.45           13.54          11.64  \n",
      "97    2           5.10            4.80           3.29  \n",
      "98    0           5.50            1.82           4.02  \n",
      "99    1           9.20            9.57           9.25  \n"
     ]
    }
   ],
   "source": [
    "GB_Predictions =GB.predict(input_vector_test)\n",
    "testing_data.copy(deep=True)\n",
    "pd.options.mode.chained_assignment = None\n",
    "testing_data[\"GBPredictions\"] = np.round(GB_Predictions,2)\n",
    "\n",
    "# Save the Predictions into CSV File\n",
    "\n",
    "testing_data.to_csv(r'GB_Predictions.csv', index = False, header = True)\n",
    "\n",
    "GB_Predictions = testing_data \n",
    "print(\"\\n\\nPredictions Returned by GB_Predictions:\")\n",
    "print(\"==========================================\\n\")\n",
    "print(GB_Predictions)"
   ]
  },
  {
   "cell_type": "code",
   "execution_count": 29,
   "metadata": {},
   "outputs": [
    {
     "name": "stdout",
     "output_type": "stream",
     "text": [
      "\n",
      "\n",
      "Predictions Returned by HGB_Predictions:\n",
      "==========================================\n",
      "\n",
      "    Present_Price  Kms_Driven  Fuel_Type  Seller_Type  Transmission  Owner  \\\n",
      "80           5.70        2074          1            0             1      0   \n",
      "81           9.40        3600          1            0             1      0   \n",
      "82           4.43        1500          1            0             1      0   \n",
      "83           9.40        4578          1            0             1      0   \n",
      "84           9.40        3600          1            0             1      0   \n",
      "85           4.43        3888          1            0             1      0   \n",
      "86           6.79        3200          1            0             0      0   \n",
      "87           7.60        7762          0            0             1      0   \n",
      "88           9.40        6131          0            0             1      0   \n",
      "89           9.40        3618          1            0             0      0   \n",
      "90           5.70        2467          1            0             1      0   \n",
      "91           4.43        5700          1            0             1      0   \n",
      "92           9.40        6000          0            0             1      0   \n",
      "93           6.79        5213          0            0             1      0   \n",
      "94           9.40        4500          0            0             1      0   \n",
      "95           9.40        1501          1            0             1      0   \n",
      "96          14.79        1290          1            0             0      0   \n",
      "97           5.17        5300          0            0             1      0   \n",
      "98           5.70        4492          1            0             1      0   \n",
      "99           9.40        1514          1            0             1      0   \n",
      "\n",
      "    Age  Selling_Price  HGBPredictions  \n",
      "80    1           5.25            5.40  \n",
      "81    2           8.50            7.73  \n",
      "82    3           3.45            4.14  \n",
      "83    1           8.45            5.98  \n",
      "84    3           7.50            7.73  \n",
      "85    3           4.10            3.51  \n",
      "86    2           5.50            3.57  \n",
      "87    1           6.00            7.38  \n",
      "88    0           8.25           10.40  \n",
      "89    2           8.11            7.67  \n",
      "90    0           5.25            5.40  \n",
      "91    3           3.65            2.04  \n",
      "92    2           8.95           10.35  \n",
      "93    1           5.10            6.06  \n",
      "94    2           8.85            8.77  \n",
      "95    3           9.25            8.31  \n",
      "96    0          13.45           13.54  \n",
      "97    2           5.10            4.80  \n",
      "98    0           5.50            1.82  \n",
      "99    1           9.20            9.57  \n"
     ]
    }
   ],
   "source": [
    "HGB_Predictions =HGB.predict(input_vector_test)\n",
    "testing_data.copy(deep=True)\n",
    "pd.options.mode.chained_assignment = None\n",
    "testing_data[\"HGBPredictions\"] = np.round(HGB_Predictions,2)\n",
    "\n",
    "# Save the Predictions into CSV File\n",
    "\n",
    "testing_data.to_csv(r'HGB_Predictions.csv', index = False, header = True)\n",
    "\n",
    "HGB_Predictions = testing_data \n",
    "print(\"\\n\\nPredictions Returned by HGB_Predictions:\")\n",
    "print(\"==========================================\\n\")\n",
    "print(HGB_Predictions)"
   ]
  },
  {
   "cell_type": "code",
   "execution_count": 38,
   "metadata": {},
   "outputs": [
    {
     "name": "stdout",
     "output_type": "stream",
     "text": [
      "\n",
      "\n",
      "Predictions Returned by Lasso_Predictions:\n",
      "==========================================\n",
      "\n"
     ]
    }
   ],
   "source": [
    "Lasso_Predictions =Lasso.predict(input_vector_test)\n",
    "testing_data.copy(deep=True)\n",
    "pd.options.mode.chained_assignment = None\n",
    "testing_data[\"LassoPredictions\"] = np.round(Lasso_Predictions,2)\n",
    "\n",
    "# Save the Predictions into CSV File\n",
    "\n",
    "testing_data.to_csv(r'Lasso_Predictions.csv', index = False, header = True)\n",
    "\n",
    "Lasso_Predictions = testing_data \n",
    "print(\"\\n\\nPredictions Returned by Lasso_Predictions:\")\n",
    "print(\"==========================================\\n\")\n",
    "#print(Lasso_Predictions)"
   ]
  },
  {
   "cell_type": "markdown",
   "metadata": {},
   "source": [
    "## Step 7.4: Calculate the Mean Absolute Error"
   ]
  },
  {
   "cell_type": "code",
   "execution_count": 62,
   "metadata": {
    "scrolled": false
   },
   "outputs": [
    {
     "name": "stdout",
     "output_type": "stream",
     "text": [
      "\n",
      "\n",
      "Mean Absolute Error By Linear Regression:\n",
      "=======================\n",
      "\n",
      "1.7\n",
      "\n",
      "\n",
      "Accuracy By Linear Regression:\n",
      "=======================\n",
      "\n",
      "19.43\n"
     ]
    }
   ],
   "source": [
    "lr_model_error = mean_absolute_error(Linear_Predictions[\"Selling_Price\"],Linear_Predictions[\"LinearPredictions\"])\n",
    "\n",
    "print(\"\\n\\nMean Absolute Error By Linear Regression:\")\n",
    "print(\"=======================\\n\")\n",
    "LRError=round(lr_model_error,2)\n",
    "print(LRError)\n",
    "\n",
    "lr_model_accuracy = r2_score(Linear_Predictions[\"Selling_Price\"],Linear_Predictions[\"LinearPredictions\"])\n",
    "\n",
    "print(\"\\n\\nAccuracy By Linear Regression:\")\n",
    "print(\"=======================\\n\")\n",
    "LRAccuracy=round(lr_model_accuracy*100,2)\n",
    "print(LRAccuracy)"
   ]
  },
  {
   "cell_type": "code",
   "execution_count": 46,
   "metadata": {
    "scrolled": true
   },
   "outputs": [
    {
     "name": "stdout",
     "output_type": "stream",
     "text": [
      "\n",
      "\n",
      "Mean Absolute Error By ExtraTree:\n",
      "=======================\n",
      "\n",
      "0.67\n",
      "\n",
      "\n",
      "AAccuracy By ExtraTree:\n",
      "=======================\n",
      "\n",
      "88.12\n"
     ]
    }
   ],
   "source": [
    "ExtraTree_model_error = mean_absolute_error(ExtraTree_Predictions[\"Selling_Price\"],ExtraTree_Predictions[\"ExtraTreePredictions\"])\n",
    "print(\"\\n\\nMean Absolute Error By ExtraTree:\")\n",
    "print(\"=======================\\n\")\n",
    "ExtraTree=round(ExtraTree_model_error,2)\n",
    "print(ExtraTree)\n",
    "\n",
    "ExtraTree_model_accuracy = r2_score(ExtraTree_Predictions[\"Selling_Price\"],ExtraTree_Predictions[\"ExtraTreePredictions\"])\n",
    "\n",
    "print(\"\\n\\nAAccuracy By ExtraTree:\")\n",
    "print(\"=======================\\n\")\n",
    "ExtraTreeaccuracy=round(ExtraTree_model_accuracy*100,2)\n",
    "print(ExtraTreeaccuracy)"
   ]
  },
  {
   "cell_type": "code",
   "execution_count": 52,
   "metadata": {
    "scrolled": true
   },
   "outputs": [
    {
     "name": "stdout",
     "output_type": "stream",
     "text": [
      "\n",
      "\n",
      "Mean Absolute Error By Bayesian Regression:\n",
      "=======================\n",
      "\n",
      "1.5\n",
      "\n",
      "\n",
      "Accuracy By Bayesian Regression:\n",
      "=======================\n",
      "\n",
      "36.99\n"
     ]
    }
   ],
   "source": [
    "Bayesian_model_error = mean_absolute_error(Bayesian_Predictions[\"Selling_Price\"],Bayesian_Predictions[\"BayesianPredictions\"])\n",
    "\n",
    "print(\"\\n\\nMean Absolute Error By Bayesian Regression:\")\n",
    "print(\"=======================\\n\")\n",
    "\n",
    "BayesianError=round(Bayesian_model_error,2)\n",
    "print(BayesianError)\n",
    "\n",
    "Bayesian_model_accuray = r2_score(Bayesian_Predictions[\"Selling_Price\"],Bayesian_Predictions[\"BayesianPredictions\"])\n",
    "\n",
    "print(\"\\n\\nAccuracy By Bayesian Regression:\")\n",
    "print(\"=======================\\n\")\n",
    "\n",
    "BayesianAccuracy=round(Bayesian_model_accuray*100,2)\n",
    "print(BayesianAccuracy)\n"
   ]
  },
  {
   "cell_type": "code",
   "execution_count": 47,
   "metadata": {
    "scrolled": true
   },
   "outputs": [
    {
     "name": "stdout",
     "output_type": "stream",
     "text": [
      "\n",
      "\n",
      "Mean Absolute Error By DecisionTree:\n",
      "=======================\n",
      "\n",
      "0.65\n",
      "\n",
      "\n",
      "AAccuracy By DecisionTree:\n",
      "=======================\n",
      "\n",
      "88.13\n"
     ]
    }
   ],
   "source": [
    "DecisionTree_model_error = mean_absolute_error(DecisionTree_Predictions[\"Selling_Price\"],DecisionTree_Predictions[\"DecisionTreePredictions\"])\n",
    "\n",
    "print(\"\\n\\nMean Absolute Error By DecisionTree:\")\n",
    "print(\"=======================\\n\")\n",
    "DecisionTree=round(DecisionTree_model_error,2)\n",
    "print(DecisionTree)\n",
    "\n",
    "DecisionTree_model_accuracy = r2_score(DecisionTree_Predictions[\"Selling_Price\"],DecisionTree_Predictions[\"DecisionTreePredictions\"])\n",
    "\n",
    "print(\"\\n\\nAAccuracy By DecisionTree:\")\n",
    "print(\"=======================\\n\")\n",
    "DecisionTreeaccuracy=round(DecisionTree_model_accuracy*100,2)\n",
    "print(DecisionTreeaccuracy)\n"
   ]
  },
  {
   "cell_type": "code",
   "execution_count": 57,
   "metadata": {
    "scrolled": true
   },
   "outputs": [
    {
     "name": "stdout",
     "output_type": "stream",
     "text": [
      "\n",
      "\n",
      "Mean Absolute Error By Random Forest:\n",
      "=======================\n",
      "\n",
      "0.96\n",
      "\n",
      "\n",
      "Accuracy By Random Forest:\n",
      "=======================\n",
      "\n",
      "74.34\n"
     ]
    }
   ],
   "source": [
    "# Calculate the Root Mean Squared Error\n",
    "\n",
    "RF_model_error = mean_absolute_error(RF_Predictions[\"Selling_Price\"],RF_Predictions[\"RFPredictions\"])\n",
    "\n",
    "print(\"\\n\\nMean Absolute Error By Random Forest:\")\n",
    "print(\"=======================\\n\")\n",
    "RFError=round(RF_model_error,2)\n",
    "print(RFError)\n",
    "\n",
    "RF_model_accuracy = r2_score(RF_Predictions[\"Selling_Price\"],RF_Predictions[\"RFPredictions\"])\n",
    "\n",
    "print(\"\\n\\nAccuracy By Random Forest:\")\n",
    "print(\"=======================\\n\")\n",
    "RFAccuracy=round(RF_model_accuracy*100,2)\n",
    "print(RFAccuracy)"
   ]
  },
  {
   "cell_type": "code",
   "execution_count": 35,
   "metadata": {},
   "outputs": [
    {
     "name": "stdout",
     "output_type": "stream",
     "text": [
      "\n",
      "\n",
      "Mean Absolute Error By GB:\n",
      "=======================\n",
      "\n",
      "0.75\n",
      "\n",
      "\n",
      "Accuracy By GB:\n",
      "=======================\n",
      "\n",
      "85.65\n"
     ]
    }
   ],
   "source": [
    "GB_model_error = mean_absolute_error(GB_Predictions[\"Selling_Price\"],GB_Predictions[\"GBPredictions\"])\n",
    "\n",
    "print(\"\\n\\nMean Absolute Error By GB:\")\n",
    "print(\"=======================\\n\")\n",
    "GBError=round(GB_model_error,2)\n",
    "print(GBError)\n",
    "\n",
    "GB_model_accuracy = r2_score(GB_Predictions[\"Selling_Price\"],GB_Predictions[\"GBPredictions\"])\n",
    "\n",
    "print(\"\\n\\nAccuracy By GB:\")\n",
    "print(\"=======================\\n\")\n",
    "\n",
    "GBAccuracy=round(GB_model_accuracy*100,2)\n",
    "print(GBAccuracy)"
   ]
  },
  {
   "cell_type": "code",
   "execution_count": 30,
   "metadata": {
    "scrolled": true
   },
   "outputs": [
    {
     "name": "stdout",
     "output_type": "stream",
     "text": [
      "\n",
      "\n",
      "Mean Absolute Error By HGB:\n",
      "=======================\n",
      "\n",
      "1.02\n",
      "\n",
      "\n",
      "Accuracy By HGB:\n",
      "=======================\n",
      "\n",
      "67.4\n"
     ]
    }
   ],
   "source": [
    "HGB_model_error = mean_absolute_error(HGB_Predictions[\"Selling_Price\"],HGB_Predictions[\"HGBPredictions\"])\n",
    "print(\"\\n\\nMean Absolute Error By HGB:\")\n",
    "print(\"=======================\\n\")\n",
    "HGBError=round(HGB_model_error,2)\n",
    "print(HGBError)\n",
    "\n",
    "HGB_model_accuracy = r2_score(HGB_Predictions[\"Selling_Price\"],HGB_Predictions[\"HGBPredictions\"])\n",
    "\n",
    "print(\"\\n\\nAccuracy By HGB:\")\n",
    "print(\"=======================\\n\")\n",
    "\n",
    "HGBAccuracy=round(HGB_model_accuracy*100,2)\n",
    "print(HGBAccuracy)"
   ]
  },
  {
   "cell_type": "code",
   "execution_count": 39,
   "metadata": {
    "scrolled": true
   },
   "outputs": [
    {
     "name": "stdout",
     "output_type": "stream",
     "text": [
      "\n",
      "\n",
      "Mean Absolute Error By Lasso_Model:\n",
      "=======================\n",
      "\n",
      "1.49\n",
      "\n",
      "\n",
      "Accuracy By Lasso_Model:\n",
      "=======================\n",
      "\n",
      "36.64\n"
     ]
    }
   ],
   "source": [
    "Lasso_Model_error = mean_absolute_error(Lasso_Predictions[\"Selling_Price\"],Lasso_Predictions[\"LassoPredictions\"])\n",
    "\n",
    "print(\"\\n\\nMean Absolute Error By Lasso_Model:\")\n",
    "print(\"=======================\\n\")\n",
    "Lasso_ModelError=round(Lasso_Model_error,2)\n",
    "print(Lasso_ModelError)\n",
    "\n",
    "Lasso_Model_accuracy = r2_score(Lasso_Predictions[\"Selling_Price\"],Lasso_Predictions[\"LassoPredictions\"])\n",
    "\n",
    "print(\"\\n\\nAccuracy By Lasso_Model:\")\n",
    "print(\"=======================\\n\")\n",
    "\n",
    "Lasso_ModelAccuracy=round(Lasso_Model_accuracy*100,2)\n",
    "print(Lasso_ModelAccuracy)\n"
   ]
  },
  {
   "cell_type": "code",
   "execution_count": 68,
   "metadata": {
    "scrolled": true
   },
   "outputs": [
    {
     "name": "stdout",
     "output_type": "stream",
     "text": [
      "Rank of models by Accuracies \n"
     ]
    },
    {
     "data": {
      "text/html": [
       "<div>\n",
       "<style scoped>\n",
       "    .dataframe tbody tr th:only-of-type {\n",
       "        vertical-align: middle;\n",
       "    }\n",
       "\n",
       "    .dataframe tbody tr th {\n",
       "        vertical-align: top;\n",
       "    }\n",
       "\n",
       "    .dataframe thead th {\n",
       "        text-align: right;\n",
       "    }\n",
       "</style>\n",
       "<table border=\"1\" class=\"dataframe\">\n",
       "  <thead>\n",
       "    <tr style=\"text-align: right;\">\n",
       "      <th></th>\n",
       "      <th>Models</th>\n",
       "      <th>Accuracies</th>\n",
       "    </tr>\n",
       "  </thead>\n",
       "  <tbody>\n",
       "    <tr>\n",
       "      <th>5</th>\n",
       "      <td>Linear</td>\n",
       "      <td>19.43</td>\n",
       "    </tr>\n",
       "    <tr>\n",
       "      <th>8</th>\n",
       "      <td>Lasso</td>\n",
       "      <td>36.64</td>\n",
       "    </tr>\n",
       "    <tr>\n",
       "      <th>4</th>\n",
       "      <td>Bayesian</td>\n",
       "      <td>36.99</td>\n",
       "    </tr>\n",
       "    <tr>\n",
       "      <th>2</th>\n",
       "      <td>HGB</td>\n",
       "      <td>67.40</td>\n",
       "    </tr>\n",
       "    <tr>\n",
       "      <th>3</th>\n",
       "      <td>RF</td>\n",
       "      <td>74.34</td>\n",
       "    </tr>\n",
       "    <tr>\n",
       "      <th>1</th>\n",
       "      <td>GB</td>\n",
       "      <td>85.65</td>\n",
       "    </tr>\n",
       "    <tr>\n",
       "      <th>7</th>\n",
       "      <td>GBAccuracy</td>\n",
       "      <td>85.65</td>\n",
       "    </tr>\n",
       "    <tr>\n",
       "      <th>0</th>\n",
       "      <td>ExtraTree</td>\n",
       "      <td>88.12</td>\n",
       "    </tr>\n",
       "    <tr>\n",
       "      <th>6</th>\n",
       "      <td>DT</td>\n",
       "      <td>88.13</td>\n",
       "    </tr>\n",
       "  </tbody>\n",
       "</table>\n",
       "</div>"
      ],
      "text/plain": [
       "       Models  Accuracies\n",
       "5      Linear       19.43\n",
       "8       Lasso       36.64\n",
       "4    Bayesian       36.99\n",
       "2         HGB       67.40\n",
       "3          RF       74.34\n",
       "1          GB       85.65\n",
       "7  GBAccuracy       85.65\n",
       "0   ExtraTree       88.12\n",
       "6          DT       88.13"
      ]
     },
     "execution_count": 68,
     "metadata": {},
     "output_type": "execute_result"
    }
   ],
   "source": [
    "Models = pd.DataFrame({\n",
    "    'Models': ['ExtraTree','GB','HGB',\n",
    "               'RF', 'Bayesian', 'Linear','DT','GBAccuracy','Lasso'],\n",
    "    \n",
    "    'Accuracies': np.round([ExtraTreeaccuracy,GBAccuracy,HGBAccuracy,\n",
    "              RFAccuracy,BayesianAccuracy,LRAccuracy,DecisionTreeaccuracy,GBAccuracy,Lasso_ModelAccuracy],2)\n",
    "                     })\n",
    "print('Rank of models by Accuracies ')\n",
    "Models.sort_values(by=['Accuracies'])"
   ]
  },
  {
   "cell_type": "markdown",
   "metadata": {},
   "source": [
    "# Step 8: Execute the Application Phase"
   ]
  },
  {
   "cell_type": "markdown",
   "metadata": {},
   "source": [
    "## Step 8.1: Take Input from User"
   ]
  },
  {
   "cell_type": "code",
   "execution_count": 69,
   "metadata": {
    "scrolled": true
   },
   "outputs": [
    {
     "name": "stdout",
     "output_type": "stream",
     "text": [
      "\n",
      "Please enter Present Price here (in lakhs) : 25\n",
      "\n",
      "Please enter your Transmission Type here (Manual, Automatic) : Manual\n",
      "\n",
      "Please enter your Fuel Type here (Petrol,Diesel) : Petrol\n",
      "\n",
      "Please enter Seller Type here (Dealer,Individual) : Dealer\n",
      "\n",
      "Please enter Passed Year here  : 1\n",
      "\n",
      "Please Kms Driven Year here  : 1000\n",
      "\n",
      "Please enter Previous owners here  : 0\n"
     ]
    }
   ],
   "source": [
    "price_input = input(\"\\nPlease enter Present Price here (in lakhs) : \").strip() \n",
    "transmission_input = input(\"\\nPlease enter your Transmission Type here (Manual, Automatic) : \").strip() \n",
    "fuel_input = input(\"\\nPlease enter your Fuel Type here (Petrol,Diesel) : \").strip() \n",
    "seller_input = input(\"\\nPlease enter Seller Type here (Dealer,Individual) : \").strip()\n",
    "year_input = input(\"\\nPlease enter Passed Year here  : \").strip() \n",
    "kms_input = input(\"\\nPlease Kms Driven Year here  : \").strip() \n",
    "owner_input = input(\"\\nPlease enter Previous owners here  : \").strip() "
   ]
  },
  {
   "cell_type": "markdown",
   "metadata": {},
   "source": [
    "## Step 8.2: Convert User Input into Feature Vector (Exactly Same as Feature Vectors of Sample Data)"
   ]
  },
  {
   "cell_type": "code",
   "execution_count": 70,
   "metadata": {
    "scrolled": true
   },
   "outputs": [
    {
     "name": "stdout",
     "output_type": "stream",
     "text": [
      "\n",
      "\n",
      "User Input Feature Vector:\n",
      "==========================\n",
      "\n",
      "  Present_Price Transmission Fuel_Type Seller_Type year_passed Kms_Drive Owner\n",
      "0            25       Manual    Petrol      Dealer           1      1000     0\n"
     ]
    }
   ],
   "source": [
    "user_input = pd.DataFrame({ 'Present_Price': [price_input],'Transmission': [transmission_input],'Fuel_Type': [fuel_input],'Seller_Type': [seller_input],'year_passed': [year_input],'Kms_Drive':[kms_input],'Owner':[owner_input]}) \n",
    "print(\"\\n\\nUser Input Feature Vector:\") \n",
    "print(\"==========================\\n\") \n",
    "print(user_input)"
   ]
  },
  {
   "cell_type": "markdown",
   "metadata": {},
   "source": [
    "## Step 8.3: Label Encoding of Feature Vector (Exactly Same as Label Encoded Feature Vectors of Sample Data)"
   ]
  },
  {
   "cell_type": "code",
   "execution_count": 71,
   "metadata": {
    "scrolled": false
   },
   "outputs": [
    {
     "name": "stdout",
     "output_type": "stream",
     "text": [
      "\n",
      "\n",
      "User Input Feature Vector:\n",
      "==========================\n",
      "\n",
      "  Present_Price Transmission Fuel_Type Seller_Type year_passed Kms_Drive Owner\n",
      "0            25       Manual    Petrol      Dealer           1      1000     0\n",
      "\n",
      "\n",
      "User Input Encoded Feature Vector:\n",
      "==================================\n",
      "\n",
      "  Present_Price  Transmission  Fuel_Type  Seller_Type year_passed Kms_Drive  \\\n",
      "0            25             1          1            0           1      1000   \n",
      "\n",
      "  Owner  \n",
      "0     0  \n"
     ]
    }
   ],
   "source": [
    "# Transform Input (Categorical) Attributes of Unseen Data into Numerical Representation \n",
    "unseen_data_features = user_input.copy() \n",
    "unseen_data_features[\"Transmission\"] = transmission_label_encoder.transform(user_input['Transmission']) \n",
    "unseen_data_features[\"Fuel_Type\"] = fuel_label_encoder.transform(user_input['Fuel_Type']) \n",
    "unseen_data_features[\"Seller_Type\"] = seller_label_encoder.transform(user_input['Seller_Type']) \n",
    "print(\"\\n\\nUser Input Feature Vector:\") \n",
    "print(\"==========================\\n\") \n",
    "print(user_input) \n",
    "print(\"\\n\\nUser Input Encoded Feature Vector:\")\n",
    "print(\"==================================\\n\") \n",
    "print(unseen_data_features)"
   ]
  },
  {
   "cell_type": "markdown",
   "metadata": {},
   "source": [
    "## Step 8.4: Load the Trained Model with Best Accuracy"
   ]
  },
  {
   "cell_type": "code",
   "execution_count": 72,
   "metadata": {
    "scrolled": true
   },
   "outputs": [],
   "source": [
    "test = pickle.load(open('DecisionTree_Model.pkl', 'rb'))"
   ]
  },
  {
   "cell_type": "code",
   "execution_count": 73,
   "metadata": {
    "scrolled": true
   },
   "outputs": [],
   "source": [
    "predicted_price = test.predict(unseen_data_features)"
   ]
  },
  {
   "cell_type": "code",
   "execution_count": 74,
   "metadata": {
    "scrolled": false
   },
   "outputs": [
    {
     "name": "stdout",
     "output_type": "stream",
     "text": [
      "+--------------------------------+\n",
      "|        ** Prediction **        |\n",
      "+--------------------------------+\n",
      "|             19.75              |\n",
      "+--------------------------------+\n"
     ]
    }
   ],
   "source": [
    "pretty_table = PrettyTable()\n",
    "pretty_table.add_column(\"       ** Prediction **       \",np.round(predicted_price,2))\n",
    "print(pretty_table)"
   ]
  },
  {
   "cell_type": "markdown",
   "metadata": {},
   "source": [
    "# Step 9: Execute the Feedback Phase\n",
    "## A Two-Step Process\n",
    "### Step 01: After some time, take Feedback from\n",
    "    o\tDomain Experts and Users on deployed GPA Prediction System\n",
    "### Step 02: Make a List of Possible Improvements based on Feedback received"
   ]
  },
  {
   "cell_type": "markdown",
   "metadata": {},
   "source": [
    "# Step 10: Improve Model based on Feedback\n",
    "### There is Always Room for Improvement\n",
    "### Based on Feedback from Domain Experts and Users\n",
    "    o\tImprove your Model"
   ]
  },
  {
   "cell_type": "markdown",
   "metadata": {},
   "source": [
    "<br><br><br>\n",
    "<center> <h3 style=\"color:blue\">==========================================================</h3> </center>\n",
    "<center> <h3 style=\"color:green\">JAZAK ALLAH KHAIR</h3> \n",
    "<center> <h3 style=\"color:blue\">==========================================================</h3> </center>\n",
    "<br><br><br>"
   ]
  },
  {
   "cell_type": "code",
   "execution_count": null,
   "metadata": {},
   "outputs": [],
   "source": []
  }
 ],
 "metadata": {
  "kernelspec": {
   "display_name": "Python 3",
   "language": "python",
   "name": "python3"
  },
  "language_info": {
   "codemirror_mode": {
    "name": "ipython",
    "version": 3
   },
   "file_extension": ".py",
   "mimetype": "text/x-python",
   "name": "python",
   "nbconvert_exporter": "python",
   "pygments_lexer": "ipython3",
   "version": "3.8.3"
  }
 },
 "nbformat": 4,
 "nbformat_minor": 4
}
